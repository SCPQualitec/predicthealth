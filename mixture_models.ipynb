{
 "cells": [
  {
   "cell_type": "code",
   "execution_count": 1,
   "metadata": {
    "collapsed": false
   },
   "outputs": [
    {
     "name": "stdout",
     "output_type": "stream",
     "text": [
      "loading data/LIWC/LIWC2007_English100131_words.dic\n",
      "loading LIWC with stopVal=0.5, for 906 words\n",
      "loading data/LIWC/LIWC2007_English100131_words.dic\n",
      "loading LIWC with stopVal=0.0, for 4483 words\n",
      "loading LabMT with stopVal=1.0, for 3731 words\n",
      "loading ANEW with stopVal=1.0, for 765 words\n"
     ]
    },
    {
     "name": "stderr",
     "output_type": "stream",
     "text": [
      "/Users/andrew/anaconda/lib/python2.7/site-packages/matplotlib/font_manager.py:273: UserWarning: Matplotlib is building the font cache using fc-list. This may take a moment.\n",
      "  warnings.warn('Matplotlib is building the font cache using fc-list. This may take a moment.')\n"
     ]
    }
   ],
   "source": [
    "import sqlite3\n",
    "import pandas as pd\n",
    "import numpy as np\n",
    "from datetime import datetime \n",
    "\n",
    "from matplotlib import pyplot as plt\n",
    "\n",
    "import seaborn as sns\n",
    "sns.set_style('white')\n",
    "%matplotlib inline\n",
    "\n",
    "import pickle\n",
    "\n",
    "from sklearn import mixture\n",
    "from pykalman import KalmanFilter\n",
    "from hmmlearn.hmm import GaussianHMM\n",
    "\n",
    "from sklearn.cross_validation import train_test_split\n",
    "\n",
    "from sklearn.metrics import confusion_matrix\n",
    "from sklearn.metrics import f1_score, precision_score, recall_score\n",
    "\n",
    "from sklearn.preprocessing import scale\n",
    "from sklearn import cross_validation\n",
    "\n",
    "from bgfunc import *"
   ]
  },
  {
   "cell_type": "markdown",
   "metadata": {},
   "source": [
    "## Load SQLite database "
   ]
  },
  {
   "cell_type": "code",
   "execution_count": 2,
   "metadata": {
    "collapsed": true
   },
   "outputs": [],
   "source": [
    "dbfile = 'project_july26.db' # only project_july26.db has up-to-date word feats\n",
    "conn = sqlite3.connect(dbfile)"
   ]
  },
  {
   "cell_type": "markdown",
   "metadata": {},
   "source": [
    "## Analysis parameters \n",
    "\n",
    "Which condition are we studying?  Are there any cutoffs based on testing?"
   ]
  },
  {
   "cell_type": "code",
   "execution_count": 3,
   "metadata": {
    "collapsed": true
   },
   "outputs": [],
   "source": [
    "platform = 'tw' # ig = instagram, tw = twitter\n",
    "condition = 'depression' # depression, pregnancy, ptsd, cancer"
   ]
  },
  {
   "cell_type": "code",
   "execution_count": 4,
   "metadata": {
    "collapsed": true
   },
   "outputs": [],
   "source": [
    "specs = analysis_specifications(platform, condition)\n",
    "\n",
    "platform_long = specs['plong'][platform]\n",
    "gb_types = specs['gb_types'][platform]\n",
    "fields = specs['fields'][platform] \n",
    "test_name = specs['test_name'][condition]\n",
    "test_cutoff = specs['test_cutoff'][condition]\n",
    "photos_rated = specs['photos_rated'][condition]\n",
    "has_test = specs['has_test'][condition]\n",
    "\n",
    "clfs = ['rf'] # lr = logistic regression, rf = random forests, svc = support vector\n",
    "periods = ['before','after']\n",
    "turn_points = ['from_diag','from_susp']\n",
    "\n",
    "impose_test_cutoff = True # do we want to limit target pop based on testing cutoff (eg. cesd > 21)?\n",
    "\n",
    "limit_date_range = False # do we want to restrict posts by date range? \n",
    "\n",
    "posting_cutoff = False # Drops usernames with fewer than (mean - 0.5std) total posts (for mcmc p-val improvement)\n",
    "\n",
    "additional_data = True # for instagram, do we also get photo ratings? (This is proxy for limit_date_range in places)\n",
    "\n",
    "include_filter = False # (instagram only) include binary indicator of filter use? \n",
    "\n",
    "include_face_data = False # (instagram only) include has_face and face_ct? \n",
    "\n",
    "report_sample_size = False # simple reporting feature for sample size\n",
    "\n",
    "report_sm_disq = False # reports #/% of subjects disqualified for refusing to share social media data\n",
    "\n",
    "get_ratings_correlation = False # (instagram-only) gets inter-rater correlation averages for each rated variable \n",
    "\n",
    "load_from = 'file' # None, file, pickle :: loads masters from pickled file, or just masters from csv\n",
    "write_to_pickle = False # writes initial data (prepare_raw_data()) to pickle file\n",
    "final_pickle = False # pickles entire data dict after all masters are created\n",
    "\n",
    "populate_wordfeats_db = False # generates word features from reagan code (twitter only)\n",
    "\n",
    "compare_ig_filters = False # (nstagram only) compares use of filters between target and control pops\n",
    "\n",
    "make_hourly_plot = False # make plot of aggregated hourly posting for target vs control?\n",
    "\n",
    "run_master = True \n",
    "run_subsets = True\n",
    "run_separate_pca = False\n",
    "run_kalman = True \n",
    "run_gmm = True\n",
    "\n",
    "load_kalman = True\n",
    "kalman_iter = 100\n",
    "gmm_perm_iter = 1000\n",
    "\n",
    "action_params = {\n",
    "    'create_master': True, \n",
    "    'save_to_file' : True, \n",
    "    'density' : False, \n",
    "    'ml' : False, \n",
    "    'nhst' : False, \n",
    "    'corr' : False, \n",
    "    'print_corrmat' : False,\n",
    "    'tall_plot': True,\n",
    "    'acc_avg': 'binary',\n",
    "    'rf_n_est': 100\n",
    "}\n",
    "\n",
    "params = define_params(condition, test_name, test_cutoff, impose_test_cutoff,\n",
    "                       platform, platform_long, fields, photos_rated, has_test, additional_data)"
   ]
  },
  {
   "cell_type": "markdown",
   "metadata": {},
   "source": [
    "## Load data\n",
    "\n",
    "Load a separate entry for each groupby "
   ]
  },
  {
   "cell_type": "code",
   "execution_count": 5,
   "metadata": {
    "collapsed": false
   },
   "outputs": [
    {
     "name": "stdout",
     "output_type": "stream",
     "text": [
      "TARGET DATA:\n",
      "Number of tweets with url in text: 0\n",
      "Adding url tags...\n",
      "Number of tweets with url in text: 43557\n",
      "Adding reply tags...\n",
      "Number of tweets with @ in text: 89391\n",
      "Adding RT tags...\n",
      "Number of tweets with RT: 38669\n",
      "\n",
      "('Subset shape for TW BEFORE FROM_DIAG:', (59293, 15))\n",
      "('Subset shape for TW BEFORE FROM_SUSP:', (18271, 15))\n",
      "('Subset shape for TW AFTER FROM_DIAG:', (104925, 15))\n",
      "('Subset shape for TW AFTER FROM_SUSP:', (27389, 15))\n",
      "\n",
      "CONTROL DATA:\n",
      "Number of tweets with url in text: 0\n",
      "Adding url tags...\n",
      "Number of tweets with url in text: 37571\n",
      "Adding reply tags...\n",
      "Number of tweets with @ in text: 57791\n",
      "Adding RT tags...\n",
      "Number of tweets with RT: 19555\n",
      "\n"
     ]
    }
   ],
   "source": [
    "if load_from == 'pickle':\n",
    "    data = pickle.load( open( \"{cond}_{pl}_data.p\".format(cond=condition,pl=platform), \"rb\" ) )\n",
    "    \n",
    "elif load_from == 'file':\n",
    "\n",
    "else:\n",
    "    data = make_data_dict(params, condition, test_name, conn)\n",
    "    prepare_raw_data(data, platform, params, conn, gb_types, condition, \n",
    "                     periods, turn_points, posting_cutoff,\n",
    "                     additional_data=additional_data, include_filter=include_filter, limit_date_range=limit_date_range)\n",
    "    if write_to_pickle:\n",
    "        pickle.dump( data, open( \"{cond}_{pl}_data.p\".format(cond=condition,pl=platform), \"wb\" ) )\n",
    "    "
   ]
  },
  {
   "cell_type": "code",
   "execution_count": 6,
   "metadata": {
    "collapsed": false
   },
   "outputs": [
    {
     "name": "stdout",
     "output_type": "stream",
     "text": [
      "\n",
      "Merge to master: MAIN created_date\n",
      "master created_date shape: (102215, 88)\n",
      "\n",
      "\n",
      "Merge to master: MAIN weekly\n",
      "master weekly shape: (29328, 86)\n",
      "\n",
      "\n",
      "Merge to master: MAIN user_id\n",
      "master user_id shape: (394, 78)\n",
      "\n"
     ]
    }
   ],
   "source": [
    "if run_master:\n",
    "    master = data['master']\n",
    "    target = data['target']['gb']\n",
    "    control = data['control']['gb'] \n",
    "    report = 'MAIN'\n",
    "    \n",
    "    if action_params['create_master']:\n",
    "        master['model'] = {}\n",
    "\n",
    "    for gb_type in gb_types:\n",
    "\n",
    "        master_actions(master, target, control, condition, platform, \n",
    "                       params, gb_type, report, action_params, clfs, additional_data, posting_cutoff)"
   ]
  },
  {
   "cell_type": "code",
   "execution_count": 12,
   "metadata": {
    "collapsed": false
   },
   "outputs": [
    {
     "ename": "IOError",
     "evalue": "File data-files/depression/tw/created_date/depression_tw_created_date_MAIN_no_addtl_data_post_uncut.csv does not exist",
     "output_type": "error",
     "traceback": [
      "\u001b[0;31m---------------------------------------------------------------------------\u001b[0m",
      "\u001b[0;31mIOError\u001b[0m                                   Traceback (most recent call last)",
      "\u001b[0;32m<ipython-input-12-db115acafda9>\u001b[0m in \u001b[0;36m<module>\u001b[0;34m()\u001b[0m\n\u001b[1;32m     11\u001b[0m     \u001b[0mfname\u001b[0m \u001b[0;34m=\u001b[0m \u001b[0mfname\u001b[0m\u001b[0;34m+\u001b[0m\u001b[0;34m'.csv'\u001b[0m\u001b[0;34m\u001b[0m\u001b[0m\n\u001b[1;32m     12\u001b[0m     \u001b[0mfpath\u001b[0m \u001b[0;34m=\u001b[0m \u001b[0;34m'/'\u001b[0m\u001b[0;34m.\u001b[0m\u001b[0mjoin\u001b[0m\u001b[0;34m(\u001b[0m\u001b[0;34m[\u001b[0m\u001b[0mfdir\u001b[0m\u001b[0;34m,\u001b[0m\u001b[0mfname\u001b[0m\u001b[0;34m]\u001b[0m\u001b[0;34m)\u001b[0m\u001b[0;34m\u001b[0m\u001b[0m\n\u001b[0;32m---> 13\u001b[0;31m     \u001b[0mdata\u001b[0m\u001b[0;34m[\u001b[0m\u001b[0mgbt\u001b[0m\u001b[0;34m]\u001b[0m \u001b[0;34m=\u001b[0m \u001b[0mpd\u001b[0m\u001b[0;34m.\u001b[0m\u001b[0mread_csv\u001b[0m\u001b[0;34m(\u001b[0m\u001b[0mfpath\u001b[0m\u001b[0;34m)\u001b[0m\u001b[0;34m\u001b[0m\u001b[0m\n\u001b[0m\u001b[1;32m     14\u001b[0m \u001b[0;34m\u001b[0m\u001b[0m\n\u001b[1;32m     15\u001b[0m     \u001b[0;32mif\u001b[0m \u001b[0mplatform\u001b[0m \u001b[0;34m==\u001b[0m \u001b[0;34m'tw'\u001b[0m\u001b[0;34m:\u001b[0m \u001b[0;31m# why do we drop the first column for tw data?  coming back to it with ig it doesn't seem right\u001b[0m\u001b[0;34m\u001b[0m\u001b[0m\n",
      "\u001b[0;32m/Users/andrew/anaconda/lib/python2.7/site-packages/pandas/io/parsers.pyc\u001b[0m in \u001b[0;36mparser_f\u001b[0;34m(filepath_or_buffer, sep, delimiter, header, names, index_col, usecols, squeeze, prefix, mangle_dupe_cols, dtype, engine, converters, true_values, false_values, skipinitialspace, skiprows, skipfooter, nrows, na_values, keep_default_na, na_filter, verbose, skip_blank_lines, parse_dates, infer_datetime_format, keep_date_col, date_parser, dayfirst, iterator, chunksize, compression, thousands, decimal, lineterminator, quotechar, quoting, escapechar, comment, encoding, dialect, tupleize_cols, error_bad_lines, warn_bad_lines, skip_footer, doublequote, delim_whitespace, as_recarray, compact_ints, use_unsigned, low_memory, buffer_lines, memory_map, float_precision)\u001b[0m\n\u001b[1;32m    560\u001b[0m                     skip_blank_lines=skip_blank_lines)\n\u001b[1;32m    561\u001b[0m \u001b[0;34m\u001b[0m\u001b[0m\n\u001b[0;32m--> 562\u001b[0;31m         \u001b[0;32mreturn\u001b[0m \u001b[0m_read\u001b[0m\u001b[0;34m(\u001b[0m\u001b[0mfilepath_or_buffer\u001b[0m\u001b[0;34m,\u001b[0m \u001b[0mkwds\u001b[0m\u001b[0;34m)\u001b[0m\u001b[0;34m\u001b[0m\u001b[0m\n\u001b[0m\u001b[1;32m    563\u001b[0m \u001b[0;34m\u001b[0m\u001b[0m\n\u001b[1;32m    564\u001b[0m     \u001b[0mparser_f\u001b[0m\u001b[0;34m.\u001b[0m\u001b[0m__name__\u001b[0m \u001b[0;34m=\u001b[0m \u001b[0mname\u001b[0m\u001b[0;34m\u001b[0m\u001b[0m\n",
      "\u001b[0;32m/Users/andrew/anaconda/lib/python2.7/site-packages/pandas/io/parsers.pyc\u001b[0m in \u001b[0;36m_read\u001b[0;34m(filepath_or_buffer, kwds)\u001b[0m\n\u001b[1;32m    313\u001b[0m \u001b[0;34m\u001b[0m\u001b[0m\n\u001b[1;32m    314\u001b[0m     \u001b[0;31m# Create the parser.\u001b[0m\u001b[0;34m\u001b[0m\u001b[0;34m\u001b[0m\u001b[0m\n\u001b[0;32m--> 315\u001b[0;31m     \u001b[0mparser\u001b[0m \u001b[0;34m=\u001b[0m \u001b[0mTextFileReader\u001b[0m\u001b[0;34m(\u001b[0m\u001b[0mfilepath_or_buffer\u001b[0m\u001b[0;34m,\u001b[0m \u001b[0;34m**\u001b[0m\u001b[0mkwds\u001b[0m\u001b[0;34m)\u001b[0m\u001b[0;34m\u001b[0m\u001b[0m\n\u001b[0m\u001b[1;32m    316\u001b[0m \u001b[0;34m\u001b[0m\u001b[0m\n\u001b[1;32m    317\u001b[0m     \u001b[0;32mif\u001b[0m \u001b[0;34m(\u001b[0m\u001b[0mnrows\u001b[0m \u001b[0;32mis\u001b[0m \u001b[0;32mnot\u001b[0m \u001b[0mNone\u001b[0m\u001b[0;34m)\u001b[0m \u001b[0;32mand\u001b[0m \u001b[0;34m(\u001b[0m\u001b[0mchunksize\u001b[0m \u001b[0;32mis\u001b[0m \u001b[0;32mnot\u001b[0m \u001b[0mNone\u001b[0m\u001b[0;34m)\u001b[0m\u001b[0;34m:\u001b[0m\u001b[0;34m\u001b[0m\u001b[0m\n",
      "\u001b[0;32m/Users/andrew/anaconda/lib/python2.7/site-packages/pandas/io/parsers.pyc\u001b[0m in \u001b[0;36m__init__\u001b[0;34m(self, f, engine, **kwds)\u001b[0m\n\u001b[1;32m    643\u001b[0m             \u001b[0mself\u001b[0m\u001b[0;34m.\u001b[0m\u001b[0moptions\u001b[0m\u001b[0;34m[\u001b[0m\u001b[0;34m'has_index_names'\u001b[0m\u001b[0;34m]\u001b[0m \u001b[0;34m=\u001b[0m \u001b[0mkwds\u001b[0m\u001b[0;34m[\u001b[0m\u001b[0;34m'has_index_names'\u001b[0m\u001b[0;34m]\u001b[0m\u001b[0;34m\u001b[0m\u001b[0m\n\u001b[1;32m    644\u001b[0m \u001b[0;34m\u001b[0m\u001b[0m\n\u001b[0;32m--> 645\u001b[0;31m         \u001b[0mself\u001b[0m\u001b[0;34m.\u001b[0m\u001b[0m_make_engine\u001b[0m\u001b[0;34m(\u001b[0m\u001b[0mself\u001b[0m\u001b[0;34m.\u001b[0m\u001b[0mengine\u001b[0m\u001b[0;34m)\u001b[0m\u001b[0;34m\u001b[0m\u001b[0m\n\u001b[0m\u001b[1;32m    646\u001b[0m \u001b[0;34m\u001b[0m\u001b[0m\n\u001b[1;32m    647\u001b[0m     \u001b[0;32mdef\u001b[0m \u001b[0mclose\u001b[0m\u001b[0;34m(\u001b[0m\u001b[0mself\u001b[0m\u001b[0;34m)\u001b[0m\u001b[0;34m:\u001b[0m\u001b[0;34m\u001b[0m\u001b[0m\n",
      "\u001b[0;32m/Users/andrew/anaconda/lib/python2.7/site-packages/pandas/io/parsers.pyc\u001b[0m in \u001b[0;36m_make_engine\u001b[0;34m(self, engine)\u001b[0m\n\u001b[1;32m    797\u001b[0m     \u001b[0;32mdef\u001b[0m \u001b[0m_make_engine\u001b[0m\u001b[0;34m(\u001b[0m\u001b[0mself\u001b[0m\u001b[0;34m,\u001b[0m \u001b[0mengine\u001b[0m\u001b[0;34m=\u001b[0m\u001b[0;34m'c'\u001b[0m\u001b[0;34m)\u001b[0m\u001b[0;34m:\u001b[0m\u001b[0;34m\u001b[0m\u001b[0m\n\u001b[1;32m    798\u001b[0m         \u001b[0;32mif\u001b[0m \u001b[0mengine\u001b[0m \u001b[0;34m==\u001b[0m \u001b[0;34m'c'\u001b[0m\u001b[0;34m:\u001b[0m\u001b[0;34m\u001b[0m\u001b[0m\n\u001b[0;32m--> 799\u001b[0;31m             \u001b[0mself\u001b[0m\u001b[0;34m.\u001b[0m\u001b[0m_engine\u001b[0m \u001b[0;34m=\u001b[0m \u001b[0mCParserWrapper\u001b[0m\u001b[0;34m(\u001b[0m\u001b[0mself\u001b[0m\u001b[0;34m.\u001b[0m\u001b[0mf\u001b[0m\u001b[0;34m,\u001b[0m \u001b[0;34m**\u001b[0m\u001b[0mself\u001b[0m\u001b[0;34m.\u001b[0m\u001b[0moptions\u001b[0m\u001b[0;34m)\u001b[0m\u001b[0;34m\u001b[0m\u001b[0m\n\u001b[0m\u001b[1;32m    800\u001b[0m         \u001b[0;32melse\u001b[0m\u001b[0;34m:\u001b[0m\u001b[0;34m\u001b[0m\u001b[0m\n\u001b[1;32m    801\u001b[0m             \u001b[0;32mif\u001b[0m \u001b[0mengine\u001b[0m \u001b[0;34m==\u001b[0m \u001b[0;34m'python'\u001b[0m\u001b[0;34m:\u001b[0m\u001b[0;34m\u001b[0m\u001b[0m\n",
      "\u001b[0;32m/Users/andrew/anaconda/lib/python2.7/site-packages/pandas/io/parsers.pyc\u001b[0m in \u001b[0;36m__init__\u001b[0;34m(self, src, **kwds)\u001b[0m\n\u001b[1;32m   1211\u001b[0m         \u001b[0mkwds\u001b[0m\u001b[0;34m[\u001b[0m\u001b[0;34m'allow_leading_cols'\u001b[0m\u001b[0;34m]\u001b[0m \u001b[0;34m=\u001b[0m \u001b[0mself\u001b[0m\u001b[0;34m.\u001b[0m\u001b[0mindex_col\u001b[0m \u001b[0;32mis\u001b[0m \u001b[0;32mnot\u001b[0m \u001b[0mFalse\u001b[0m\u001b[0;34m\u001b[0m\u001b[0m\n\u001b[1;32m   1212\u001b[0m \u001b[0;34m\u001b[0m\u001b[0m\n\u001b[0;32m-> 1213\u001b[0;31m         \u001b[0mself\u001b[0m\u001b[0;34m.\u001b[0m\u001b[0m_reader\u001b[0m \u001b[0;34m=\u001b[0m \u001b[0m_parser\u001b[0m\u001b[0;34m.\u001b[0m\u001b[0mTextReader\u001b[0m\u001b[0;34m(\u001b[0m\u001b[0msrc\u001b[0m\u001b[0;34m,\u001b[0m \u001b[0;34m**\u001b[0m\u001b[0mkwds\u001b[0m\u001b[0;34m)\u001b[0m\u001b[0;34m\u001b[0m\u001b[0m\n\u001b[0m\u001b[1;32m   1214\u001b[0m \u001b[0;34m\u001b[0m\u001b[0m\n\u001b[1;32m   1215\u001b[0m         \u001b[0;31m# XXX\u001b[0m\u001b[0;34m\u001b[0m\u001b[0;34m\u001b[0m\u001b[0m\n",
      "\u001b[0;32mpandas/parser.pyx\u001b[0m in \u001b[0;36mpandas.parser.TextReader.__cinit__ (pandas/parser.c:3427)\u001b[0;34m()\u001b[0m\n",
      "\u001b[0;32mpandas/parser.pyx\u001b[0m in \u001b[0;36mpandas.parser.TextReader._setup_parser_source (pandas/parser.c:6861)\u001b[0;34m()\u001b[0m\n",
      "\u001b[0;31mIOError\u001b[0m: File data-files/depression/tw/created_date/depression_tw_created_date_MAIN_no_addtl_data_post_uncut.csv does not exist"
     ]
    }
   ],
   "source": [
    "data = {}\n",
    "when = \"MAIN\"\n",
    "datetype = \"\"#_from_diag\"\n",
    "addtl = \"no_addtl_data\"\n",
    "cut = \"post_uncut\"\n",
    "\n",
    "gb_types = ['created_date']\n",
    "for gbt in gb_types: \n",
    "    fdir = '/'.join([\"data-files\",condition,platform,gbt])\n",
    "    fname = '_'.join([condition,platform,gbt,when+datetype,addtl,cut])\n",
    "    fname = fname+'.csv'\n",
    "    fpath = '/'.join([fdir,fname])\n",
    "    data[gbt] = pd.read_csv(fpath)\n",
    "\n",
    "    if platform == 'tw': # why do we drop the first column for tw data?  coming back to it with ig it doesn't seem right\n",
    "        data[gbt].drop(data[gbt].columns[0], 1, inplace=True) # drops index"
   ]
  },
  {
   "cell_type": "markdown",
   "metadata": {},
   "source": [
    "## Set up training data"
   ]
  },
  {
   "cell_type": "code",
   "execution_count": 452,
   "metadata": {
    "collapsed": true
   },
   "outputs": [],
   "source": [
    "target = 'target'\n",
    "\n",
    "if platform == 'ig':\n",
    "    user = 'username'\n",
    "elif platform == 'tw':\n",
    "    user = 'user_id'\n",
    "    \n",
    "means = 'means'"
   ]
  },
  {
   "cell_type": "code",
   "execution_count": 453,
   "metadata": {
    "collapsed": false
   },
   "outputs": [],
   "source": [
    "gb_type = 'created_date'\n",
    "mdf = data['master'][gb_type].copy()\n",
    "\n",
    "predictors = params['vars'][platform][gb_type][means]\n",
    "\n",
    "X = mdf[predictors].copy()"
   ]
  },
  {
   "cell_type": "code",
   "execution_count": 454,
   "metadata": {
    "collapsed": false
   },
   "outputs": [
    {
     "name": "stdout",
     "output_type": "stream",
     "text": [
      "Num target ids: (105,)\n",
      "Num control ids: (99,)\n"
     ]
    }
   ],
   "source": [
    "## this section for kalman filter only.  the user_id thing doesn't work for instagram...\n",
    "if run_kalman or run_gmm:\n",
    "    gb_type = 'created_date'\n",
    "    mdf = data['master'][gb_type].copy()\n",
    "\n",
    "    if platform == 'tw':\n",
    "        # this mask isn't exhaustive...but it is meant to cover cases where tweets just don't give much useful info\n",
    "        equals_zero_mask = (mdf.LabMT_happs != 0) & (mdf.ANEW_happs != 0)\n",
    "        mdf = mdf.loc[equals_zero_mask]\n",
    "\n",
    "    tpop = mdf.ix[mdf.target==1,:]\n",
    "    cpop = mdf.ix[mdf.target==0,:]\n",
    "\n",
    "    print 'Num target ids:', tpop[user].unique().shape\n",
    "    print 'Num control ids:', cpop[user].unique().shape\n",
    "\n",
    "    # you should fix this up a bit...the reason you're sampling by user_id and not with a normal train_test_split is so you\n",
    "    # can take the class assignments and plot them on a time series for the entire span of a given subject\n",
    "    # still that's a bit messy and also not very principled with the numbers you picked.\n",
    "    Tuid_train = pd.Series(tpop[user].unique()).sample(70)\n",
    "    Cuid_train = pd.Series(cpop[user].unique()).sample(80)\n",
    "    uid_train = pd.concat([Tuid_train,Cuid_train]).values\n",
    "\n",
    "    df_train = mdf.ix[mdf[user].isin(uid_train),:]\n",
    "    df_test = mdf.ix[~mdf[user].isin(uid_train),:]\n",
    "\n",
    "    predictors = params['vars'][platform][gb_type][means]\n",
    "\n",
    "    X = mdf[predictors].copy()\n",
    "    X_train = df_train[predictors].copy()\n",
    "    X_test = df_test[predictors].copy()\n",
    "    y_train = df_train[target]\n",
    "    y_test = df_test[target]\n",
    "\n",
    "    df_to_use = X"
   ]
  },
  {
   "cell_type": "markdown",
   "metadata": {},
   "source": [
    "## Kalman Filter\n",
    "\n",
    "Note that default settings seem to specify a single-variate Gaussian for the latent variable.  You may want to adjust this."
   ]
  },
  {
   "cell_type": "code",
   "execution_count": 14,
   "metadata": {
    "collapsed": false
   },
   "outputs": [],
   "source": [
    "if load_kalman:\n",
    "    kalman_df = pd.read_csv('{cond}_{pl}_{gb_type}_KF_MAIN.csv'.format(cond=condition, pl=platform, gb_type=gb_type))\n",
    "    kfmeans = kalman_df.kf_mean\n",
    "    kfcov = kalman_df.kf_cov\n",
    "else:\n",
    "    kf = KalmanFilter(initial_state_mean=0, n_dim_obs=X.shape[1])\n",
    "    \n",
    "    kf.em(X, n_iter=kalman_iter) # running on depression/tw/weekly this takes about 30 min with n_iter=100\n",
    "    \n",
    "    kfout = kf.smooth(df_to_use)\n",
    "    kfmeans = kfout[0]\n",
    "    kfcov = kfout[1]\n",
    "    \n",
    "    #save to file\n",
    "    (pd.DataFrame({'kf_mean':kfout[0].ravel(), 'kf_cov':kfout[1].ravel()}, index=X.index)\n",
    "       .to_csv('{cond}_{pl}_{gb_type}_KF_MAIN.csv'.format(cond=condition, pl=platform, gb_type=gb_type), index=False)\n",
    "     )\n",
    "    \n",
    "df_to_use['kf_mean'] = kfmeans\n",
    "df_to_use['kf_cov'] = kfcov.ravel()\n",
    "df_to_use['user_id'] = mdf.user_id[df_to_use.index]\n",
    "df_to_use['target'] = mdf.target[df_to_use.index]\n",
    "df_to_use['diag_date'] = mdf.diag_date[df_to_use.index]\n",
    "df_to_use['created_date'] = mdf.created_date[df_to_use.index]\n",
    "df_to_use['from_diag'] = mdf.from_diag[df_to_use.index]"
   ]
  },
  {
   "cell_type": "code",
   "execution_count": 291,
   "metadata": {
    "collapsed": false
   },
   "outputs": [
    {
     "name": "stdout",
     "output_type": "stream",
     "text": [
      "Correlation threshold: 0.03\n",
      "\n",
      "total_words :: -0.031 (p=0.0)\n",
      "LabMT_happs :: -0.032 (p=0.0)\n",
      "LIWC_health :: -0.041 (p=0.0)\n",
      "LIWC_achieve :: -0.031 (p=0.0)\n",
      "tweet_count :: -0.034 (p=0.0)\n"
     ]
    }
   ],
   "source": [
    "# are kf_means correlated with any other variables?\n",
    "\n",
    "corr_thresh = 0.03\n",
    "\n",
    "print 'Correlation threshold:', corr_thresh\n",
    "print\n",
    "for col in df_to_use.columns:\n",
    "    if col not in ['kf_mean','user_id','diag_date','created_date']:\n",
    "        try:\n",
    "            corr = pearsonr(df_to_use[col], df_to_use.kf_mean)\n",
    "            if abs(corr[0]) > corr_thresh:\n",
    "                print col, '::', round(corr[0], 3), '(p={})'.format(round(corr[1], 3))\n",
    "        except:\n",
    "            print\n",
    "            print 'FAIL:', col"
   ]
  },
  {
   "cell_type": "code",
   "execution_count": 289,
   "metadata": {
    "collapsed": false
   },
   "outputs": [
    {
     "name": "stdout",
     "output_type": "stream",
     "text": [
      "Depressed Kalman mean: 47.301 (sd=16.607)\n",
      "Control Kalman mean: 47.473 (sd=15.355)\n",
      "\n",
      "t = -1.41530298507, p = 0.156984161457\n",
      "\n",
      "(Rolling mean window: 90 days)\n"
     ]
    }
   ],
   "source": [
    "# check if Kalman means are different between target/control\n",
    "\n",
    "rolled_ttest = False # do you want the t-test to use rolling means of kf_mean?\n",
    "ttest_roll = 90\n",
    "\n",
    "a = df_to_use.ix[df_to_use.target==1,'kf_mean']\n",
    "b = df_to_use.ix[df_to_use.target==0,'kf_mean']\n",
    "\n",
    "if rolled_ttest:\n",
    "    a = a.rolling(ttest_roll).mean().dropna()\n",
    "    b = b.rolling(ttest_roll).mean().dropna()\n",
    "    \n",
    "test = ttest(a, b)\n",
    "\n",
    "\n",
    "print 'Depressed Kalman mean: {} (sd={})'.format(round(a.mean(), 3), round(a.std(), 3))\n",
    "print 'Control Kalman mean: {} (sd={})'.format(round(b.mean(), 3), round(b.std(), 3))\n",
    "print\n",
    "print 't = {}, p = {}'.format(test.statistic,test.pvalue)\n",
    "print \n",
    "print '(Rolling mean window: {} days)'.format(roll2)"
   ]
  },
  {
   "cell_type": "code",
   "execution_count": 307,
   "metadata": {
    "collapsed": true
   },
   "outputs": [],
   "source": [
    "# set rolling window for computing time series stats\n",
    "roll = 30\n",
    "\n",
    "# variable of interest\n",
    "target = 'kf_mean'"
   ]
  },
  {
   "cell_type": "code",
   "execution_count": 308,
   "metadata": {
    "collapsed": false
   },
   "outputs": [],
   "source": [
    "# target class\n",
    "\n",
    "dff = df_to_use.reset_index(drop=True)\n",
    "ct = 0\n",
    "color_ct = 0\n",
    "uct = 0\n",
    "last_uid = ''\n",
    "colors = ['blue','purple','green','orange','pink','maroon','cyan']\n",
    "\n",
    "master_t = pd.DataFrame()\n",
    "\n",
    "for idx in dff.ix[(dff.target==1) & dff[target].notnull(),:].index:\n",
    "    uid = dff.ix[idx,'user_id']\n",
    "    if uid != last_uid:\n",
    "        ct += 1\n",
    "        last_uid = uid\n",
    "        diag = pd.to_datetime(dff.ix[idx,'diag_date'])\n",
    "        oneuser = dff.ix[dff.user_id==uid, :].copy()\n",
    "\n",
    "        ts = oneuser.ix[:,[target,'from_diag']].copy()\n",
    "        ts['from_point'] = ts.from_diag\n",
    "        ts.index = pd.to_datetime(oneuser.created_date)\n",
    "\n",
    "\n",
    "        mask = (ts.index > diag-pd.DateOffset(365)) & (ts.index < diag+pd.DateOffset(365))\n",
    "        #ts2 = ts.ix[mask,'kf_mean'].copy()\n",
    "        ts['rmean'] = ts[target].rolling(roll).mean()\n",
    "        ts2 = ts.loc[mask]\n",
    "        master_t = pd.concat([master_t,ts2])\n",
    "        #print ts2.head(20)\n",
    "        #ax = ts.plot(style='-')\n",
    "        #plt.plot(ts2.from_diag, ts2.rmean, colors[color_ct], alpha=0.3)\n",
    "        #plt.axvline(x=0, color='red')\n",
    "        #color_ct = ct % 4\n",
    "        #plt.xlim([diag-pd.DateOffset(365), diag+pd.DateOffset(365)])"
   ]
  },
  {
   "cell_type": "code",
   "execution_count": 309,
   "metadata": {
    "collapsed": false
   },
   "outputs": [],
   "source": [
    "# control class\n",
    "\n",
    "ct = 0\n",
    "color_ct = 0\n",
    "uct = 0\n",
    "last_uid = ''\n",
    "colors = ['blue','purple','green','orange','pink','maroon','cyan']\n",
    "\n",
    "master_c = pd.DataFrame()\n",
    "\n",
    "for idx in dff.ix[(dff.target==0) & dff[target].notnull(),:].index:\n",
    "\n",
    "    uid = dff.ix[idx,'user_id']\n",
    "    if uid != last_uid:\n",
    "        ct += 1\n",
    "        last_uid = uid\n",
    "        current = pd.to_datetime('2016-04-01')\n",
    "\n",
    "        oneuser = dff.ix[dff.user_id==uid, :].copy()\n",
    "\n",
    "        ts = oneuser.ix[:,[target,'created_date','LabMT_happs']].copy()\n",
    "        ts.index = pd.to_datetime(oneuser.created_date)\n",
    "        ts['from_point'] = (ts.index-current).days\n",
    "        mask = (ts.from_point > -365*2)\n",
    "\n",
    "        ts['rmean'] = ts[target].rolling(roll).mean()\n",
    "        ts2 = ts.loc[mask]\n",
    "        master_c = pd.concat([master_c, ts2])\n",
    "        \n",
    "        #ax = ts.plot(style='-')\n",
    "        #plt.plot(ts2.from_current, ts2.rmean, colors[color_ct], alpha=0.3)\n",
    "        #plt.axvline(x=0, color='red')\n",
    "        #plt.ylim([-20,120])\n",
    "        #color_ct = ct % 4\n",
    "        #plt.xlim([diag-pd.DateOffset(365), diag+pd.DateOffset(365)])\n"
   ]
  },
  {
   "cell_type": "code",
   "execution_count": 310,
   "metadata": {
    "collapsed": false
   },
   "outputs": [
    {
     "data": {
      "text/plain": [
       "<matplotlib.legend.Legend at 0x18cc74590>"
      ]
     },
     "execution_count": 310,
     "metadata": {},
     "output_type": "execute_result"
    },
    {
     "data": {
      "image/png": "[encoded data removed]",
      "text/plain": [
       "<matplotlib.figure.Figure at 0x17cbc3110>"
      ]
     },
     "metadata": {},
     "output_type": "display_data"
    }
   ],
   "source": [
    "master_t['target'] = 'depressed'\n",
    "master_c['target'] = 'control'\n",
    "tsdf = pd.concat([master_t,master_c])\n",
    "\n",
    "tsgb = tsdf.groupby(['target','from_point']).agg({'rmean':['mean','var'],\n",
    "                                                  'LabMT_happs':'mean'})\n",
    "new_colname = ['%s%s' % (a, '|%s' % b if b else '') for a, b in tsgb.columns]\n",
    "tsgb.columns = new_colname\n",
    "\n",
    "tsgb2 = tsgb.reset_index()\n",
    "\n",
    "t_rm = tsgb2.ix[tsgb2.target=='depressed','rmean|mean'].rolling(roll2).mean()\n",
    "t_from = tsgb2.ix[tsgb2.target=='depressed','from_point']\n",
    "c_rm = tsgb2.ix[tsgb2.target=='control','rmean|mean'].rolling(roll2).mean()\n",
    "c_from = tsgb2.ix[tsgb2.target=='control','from_point']\n",
    "\n",
    "plt.figure(figsize=(10,6))\n",
    "plt.plot(t_from, t_rm, alpha=.4, label='depressed')\n",
    "plt.xlim([-180, 60])\n",
    "#plt.plot(c_from, c_rm, alpha=.4, label='control')\n",
    "plt.axvline(x=0, color='red', alpha=0.6)\n",
    "plt.legend()"
   ]
  },
  {
   "cell_type": "code",
   "execution_count": 312,
   "metadata": {
    "collapsed": false
   },
   "outputs": [
    {
     "data": {
      "image/png": "[encoded data removed]",
      "text/plain": [
       "<matplotlib.figure.Figure at 0x19a7ede50>"
      ]
     },
     "metadata": {},
     "output_type": "display_data"
    },
    {
     "data": {
      "text/plain": [
       "<matplotlib.legend.Legend at 0x1aba86cd0>"
      ]
     },
     "execution_count": 312,
     "metadata": {},
     "output_type": "execute_result"
    },
    {
     "data": {
      "image/png": "[encoded data removed]",
      "text/plain": [
       "<matplotlib.figure.Figure at 0x1a8738e90>"
      ]
     },
     "metadata": {},
     "output_type": "display_data"
    }
   ],
   "source": [
    "# tsgb = time series group-by\n",
    "\n",
    "tsgb2 = tsgb.reset_index()\n",
    "\n",
    "t_rm = tsgb2.ix[tsgb2.target=='depressed','rmean|mean'].rolling(roll2).mean()\n",
    "\n",
    "t_from = tsgb2.ix[tsgb2.target=='depressed','from_point']\n",
    "c_rm = tsgb2.ix[tsgb2.target=='control','rmean|mean'].rolling(roll2).mean()\n",
    "c_happs = tsgb2.ix[tsgb2.target=='control','LabMT_happs|mean'].rolling(roll2).mean()\n",
    "\n",
    "c_from = tsgb2.ix[tsgb2.target=='control','from_point']\n",
    "\n",
    "ylim = [45,50]\n",
    "xlim = [-200, 60]\n",
    "\n",
    "plt.figure(figsize=(10,3))\n",
    "plt.plot(t_from, t_rm, alpha=.4, label='depressed')\n",
    "plt.xlim(xlim)\n",
    "plt.ylim(ylim)\n",
    "plt.title('Kalman rolling mean, TARGET', fontsize=16)\n",
    "plt.axvline(x=0, color='red', alpha=0.6, label='diagnosis')\n",
    "\n",
    "plt.legend()\n",
    "plt.show()\n",
    "\n",
    "plt.figure(figsize=(10,3))\n",
    "plt.plot(c_from, c_rm, alpha=.4, label='control')\n",
    "plt.xlim(xlim)\n",
    "plt.ylim(ylim)\n",
    "plt.title('Kalman rolling mean, CONTROL', fontsize=16)\n",
    "plt.legend()"
   ]
  },
  {
   "cell_type": "code",
   "execution_count": 249,
   "metadata": {
    "collapsed": false
   },
   "outputs": [],
   "source": [
    "#g = sns.FacetGrid(tsgb2, col='target', size=6)\n",
    "#g.map(plt.plot, 'from_point', 'rmean|mean', alpha=0.7)"
   ]
  },
  {
   "cell_type": "markdown",
   "metadata": {},
   "source": [
    "## GMM model selection with BIC\n",
    "\n",
    "Note that if you leave in the zero-values for LabMT_happs, LabMT_word_count, etc, then the model selects 4 components instead of 2, since it thinks of the density bumps around zero for each class as their own compoonents.  So you took them out before running the model selection (well, you actually didn't take them out the first time and were surprised to see 4 components recommended...)\n"
   ]
  },
  {
   "cell_type": "code",
   "execution_count": 15,
   "metadata": {
    "collapsed": false
   },
   "outputs": [
    {
     "data": {
      "image/png": "[encoded data removed]",
      "text/plain": [
       "<matplotlib.figure.Figure at 0x158239a10>"
      ]
     },
     "metadata": {},
     "output_type": "display_data"
    },
    {
     "name": "stdout",
     "output_type": "stream",
     "text": [
      "Optimal number of mixture components: 6\n",
      "BIC for optimal (6) component mix: 14362547.6192\n"
     ]
    }
   ],
   "source": [
    "opt_comp = select_gmm(X).n_components\n",
    "print 'Optimal number of mixture components:', opt_comp\n",
    "\n",
    "gmmo = mixture.GMM( n_components=opt_comp )\n",
    "\n",
    "fit = gmmo.fit_predict(X)\n",
    "mdf['comp'] = fit\n",
    "\n",
    "print 'BIC for optimal ({}) component mix:'.format(opt_comp), gmmo.bic(X)"
   ]
  },
  {
   "cell_type": "code",
   "execution_count": 455,
   "metadata": {
    "collapsed": true
   },
   "outputs": [],
   "source": [
    "num_comps = 2\n",
    "# num_comps = opt_comp"
   ]
  },
  {
   "cell_type": "code",
   "execution_count": 475,
   "metadata": {
    "collapsed": false
   },
   "outputs": [
    {
     "name": "stdout",
     "output_type": "stream",
     "text": [
      "BIC for 2-component mix: 17278629.4757\n"
     ]
    }
   ],
   "source": [
    "# 2-class GMM fit\n",
    "gmm2 = mixture.GMM( n_components=num_comps )\n",
    "fit2 = gmm2.fit_predict(X)\n",
    "\n",
    "mdf['comp2'] = fit2\n",
    "gmm2df = mdf.copy()\n",
    "\n",
    "print 'BIC for 2-component mix:', gmm2.bic(X)"
   ]
  },
  {
   "cell_type": "code",
   "execution_count": 489,
   "metadata": {
    "collapsed": false
   },
   "outputs": [
    {
     "data": {
      "text/plain": [
       "<matplotlib.legend.Legend at 0x176b62350>"
      ]
     },
     "execution_count": 489,
     "metadata": {},
     "output_type": "execute_result"
    },
    {
     "data": {
      "image/png": "[encoded data removed]",
      "text/plain": [
       "<matplotlib.figure.Figure at 0x17be815d0>"
      ]
     },
     "metadata": {},
     "output_type": "display_data"
    }
   ],
   "source": [
    "# are GMM classes aligned with actual classes on LabMT happiness scores?\n",
    "\n",
    "f, (ax1, ax2) = plt.subplots(1, 2, sharey=True, figsize=(12,4))\n",
    "\n",
    "ax1.hist(gmm2df.LabMT_happs[gmm2df.comp2==1], color='navy', alpha=0.5, bins=20, label=condition)\n",
    "ax1.hist(gmm2df.LabMT_happs[gmm2df.comp2==0], color='gray', alpha=0.3, bins=20, label='control')\n",
    "ax1.set_title('LabMT_happs: GMM classes')\n",
    "ax1.legend(loc='upper left')\n",
    "\n",
    "ax2.hist(gmm2df.LabMT_happs[gmm2df.target==1], color='navy', alpha=0.5, bins=20, label=condition)\n",
    "ax2.hist(gmm2df.LabMT_happs[gmm2df.target==0], color='gray', alpha=0.3, bins=20, label='control')\n",
    "ax2.set_title('LabMT_happs: Actual classes')\n",
    "ax2.legend(loc='upper left')"
   ]
  },
  {
   "cell_type": "markdown",
   "metadata": {},
   "source": [
    "Below we take the 2-class GMM case and compute F1 scores, and compare that to a resampling distribution of F1 scores generated by unweighted random guesses."
   ]
  },
  {
   "cell_type": "code",
   "execution_count": 490,
   "metadata": {
    "collapsed": false
   },
   "outputs": [
    {
     "name": "stdout",
     "output_type": "stream",
     "text": [
      "\n",
      "Accuracy scores for 2-component GMM:\n",
      "\n",
      "recall: 0.349\n",
      "precision: 0.638\n",
      "specificity: 0.778\n",
      "npv: 0.517\n",
      "f1: 0.452\n"
     ]
    }
   ],
   "source": [
    "gmm2_acc = {}\n",
    "\n",
    "actual_neg = gmm2df.target==0\n",
    "preds = gmm2df.comp2\n",
    "pred_neg = preds==0\n",
    "\n",
    "tn = np.sum(actual_neg & pred_neg)\n",
    "pneg = np.sum(pred_neg)\n",
    "neg = np.sum(actual_neg)\n",
    "\n",
    "gmm2_acc['npv'] = round( tn / float(pneg), 3)\n",
    "gmm2_acc['specificity'] = round( tn / float(neg), 3 )\n",
    "gmm2_acc['f1'] = round(f1_score(gmm2df.target, gmm2df.comp2, average='binary'), 3)\n",
    "gmm2_acc['precision'] = round(precision_score(gmm2df.target, gmm2df.comp2, average='binary'), 3)\n",
    "gmm2_acc['recall'] = round(recall_score(gmm2df.target, gmm2df.comp2, average='binary'), 3)\n",
    "\n",
    "print\n",
    "print 'Accuracy scores for 2-component GMM:'\n",
    "print\n",
    "for score in ['recall','precision','specificity','npv','f1']:\n",
    "    print '{}:'.format(score), gmm2_acc[score]\n",
    "    "
   ]
  },
  {
   "cell_type": "code",
   "execution_count": 491,
   "metadata": {
    "collapsed": false
   },
   "outputs": [
    {
     "data": {
      "text/plain": [
       "0.55166707438159235"
      ]
     },
     "execution_count": 491,
     "metadata": {},
     "output_type": "execute_result"
    }
   ],
   "source": [
    "np.sum(gmm2df.target==gmm2df.comp2)/float(gmm2df.shape[0])"
   ]
  },
  {
   "cell_type": "code",
   "execution_count": 462,
   "metadata": {
    "collapsed": true
   },
   "outputs": [],
   "source": [
    "# how many samples of random unweighted guesses do we want?\n",
    "gmm_perm_iter = 1000"
   ]
  },
  {
   "cell_type": "code",
   "execution_count": 493,
   "metadata": {
    "collapsed": false
   },
   "outputs": [
    {
     "name": "stdout",
     "output_type": "stream",
     "text": [
      "\n",
      "Accuracy scores for random guessing (over 1000 rounds):\n",
      "\n",
      "recall: 0.5 (SD=0.003)\n",
      "precision: 0.528 (SD=0.002)\n",
      "specificity: 0.5 (SD=0.003)\n",
      "npv: 0.472 (SD=0.002)\n",
      "f1: 0.514 (SD=0.002)\n"
     ]
    }
   ],
   "source": [
    "guess_acc = {'f1':[],'specificity':[],'npv':[],'precision':[],'recall':[]}\n",
    "\n",
    "for i in range(gmm_perm_iter):\n",
    "    unweighted_guess = np.random.randint(0,2,gmm2df.shape[0])\n",
    "    \n",
    "    actual_neg = gmm2df.target==0\n",
    "    preds = unweighted_guess\n",
    "    pred_neg = preds==0\n",
    "\n",
    "    tn = np.sum(actual_neg & pred_neg)\n",
    "    pneg = np.sum(pred_neg)\n",
    "    neg = np.sum(actual_neg)\n",
    "    guess_acc['f1'].append(f1_score(gmm2df.target, unweighted_guess, average='binary'))\n",
    "    guess_acc['npv'].append( round( tn / float(pneg), 3) )\n",
    "    guess_acc['specificity'].append( round( tn / float(neg), 3 ) )\n",
    "    guess_acc['precision'].append( round(precision_score(gmm2df.target, unweighted_guess, average='binary'), 3) )\n",
    "    guess_acc['recall'].append( round(recall_score(gmm2df.target, unweighted_guess, average='binary'), 3) )\n",
    "    \n",
    "print\n",
    "print 'Accuracy scores for random guessing (over {} rounds):'.format(gmm_perm_iter)\n",
    "print\n",
    "for score in ['recall','precision','specificity','npv','f1']:\n",
    "    print '{}:'.format(score), round(np.mean(guess_acc[score]),3), '(SD={})'.format(round(np.std(guess_acc[score]),3))\n",
    "    \n",
    "\n",
    "#plt.figure(figsize=(8,4))\n",
    "#_=plt.hist(guess_f1s, bins=100)\n",
    "#plt.title('F1 score: GMM vs 1000x Unweighted guess sampling histogram', fontsize=14)\n",
    "#plt.axvline(gmm2_acc['f1'], color='green', label='GMM F1', alpha=0.6)\n",
    "#plt.xlim([0.45, 0.6])\n",
    "#plt.xlabel('F1 score', fontsize=14)\n",
    "#plt.ylabel('Frequency')\n",
    "#plt.legend(loc='upper left', fontsize=12)"
   ]
  },
  {
   "cell_type": "markdown",
   "metadata": {
    "collapsed": true
   },
   "source": [
    "## HMM\n",
    "\n",
    "Using hmmlearn module  \n",
    "\n",
    "Specifies a two-state Hidden Markov Model, generates probabilities of each observation belonging to class 0/1.  \n",
    "  \n",
    "We look at the mean differences between variables and note they are similar to the mean differences between depressed and target classes...seems reasonable to infer that HMM is picking up on mood of some kind as a distinguisher.  \n",
    "\n",
    "We show that depressed observations had a higher probability of being depressed, much before diagnosis."
   ]
  },
  {
   "cell_type": "code",
   "execution_count": 251,
   "metadata": {
    "collapsed": false
   },
   "outputs": [],
   "source": [
    "# sort data by user and then by posting chronology\n",
    "Xord = mdf.sort_values(['user_id','created_date']).copy()\n",
    "\n",
    "# HMM needs to know how many posts are in the chronology for each user\n",
    "# NB: 'total_words' here is not special, we can use any column that count() turns into a count vector.\n",
    "lengths = Xord.groupby('user_id').count()['total_words'].values"
   ]
  },
  {
   "cell_type": "code",
   "execution_count": 252,
   "metadata": {
    "collapsed": false
   },
   "outputs": [],
   "source": [
    "# see Working with Multiple Sequences for more on the lengths argument\n",
    "# http://hmmlearn.readthedocs.io/en/latest/tutorial.html#training-hmm-parameters-and-inferring-the-hidden-states\n",
    "\n",
    "hmm = GaussianHMM(n_components=2).fit( Xord[predictors], lengths )\n",
    "\n",
    "probas = hmm.predict_proba( Xord[predictors] )"
   ]
  },
  {
   "cell_type": "code",
   "execution_count": 253,
   "metadata": {
    "collapsed": false
   },
   "outputs": [],
   "source": [
    "Xord['proba0'] = probas[:,0]\n",
    "Xord['proba1'] = probas[:,1]"
   ]
  },
  {
   "cell_type": "code",
   "execution_count": 444,
   "metadata": {
    "collapsed": false
   },
   "outputs": [
    {
     "data": {
      "text/plain": [
       "<matplotlib.text.Text at 0x17c4a9c50>"
      ]
     },
     "execution_count": 444,
     "metadata": {},
     "output_type": "execute_result"
    },
    {
     "data": {
      "image/png": "[encoded data removed]",
      "text/plain": [
       "<matplotlib.figure.Figure at 0x18cbdce90>"
      ]
     },
     "metadata": {},
     "output_type": "display_data"
    }
   ],
   "source": [
    "which_prob = 1\n",
    "\n",
    "plt.figure(figsize=(6,3))\n",
    "_=plt.hist(probas[:,which_prob], bins=100)\n",
    "plt.yscale('log')\n",
    "plt.title('Probability histogram for class {}'.format(which_prob))"
   ]
  },
  {
   "cell_type": "code",
   "execution_count": 441,
   "metadata": {
    "collapsed": false
   },
   "outputs": [
    {
     "name": "stdout",
     "output_type": "stream",
     "text": [
      "Top 6 cases where Class 1 < Class 2\n",
      "\n"
     ]
    },
    {
     "name": "stderr",
     "output_type": "stream",
     "text": [
      "/Users/andrew/anaconda/lib/python2.7/site-packages/ipykernel/__main__.py:10: VisibleDeprecationWarning: using a non-integer number instead of an integer will result in an error in the future\n"
     ]
    },
    {
     "data": {
      "text/html": [
       "<div>\n",
       "<table border=\"1\" class=\"dataframe\">\n",
       "  <thead>\n",
       "    <tr style=\"text-align: right;\">\n",
       "      <th></th>\n",
       "      <th>col_idx</th>\n",
       "      <th>Class1-Class2</th>\n",
       "    </tr>\n",
       "  </thead>\n",
       "  <tbody>\n",
       "    <tr>\n",
       "      <th>LabMT_happs</th>\n",
       "      <td>4.0</td>\n",
       "      <td>-0.192245</td>\n",
       "    </tr>\n",
       "    <tr>\n",
       "      <th>ANEW_happs</th>\n",
       "      <td>6.0</td>\n",
       "      <td>-0.155071</td>\n",
       "    </tr>\n",
       "    <tr>\n",
       "      <th>has_url</th>\n",
       "      <td>75.0</td>\n",
       "      <td>-0.111816</td>\n",
       "    </tr>\n",
       "    <tr>\n",
       "      <th>ANEW_dominance</th>\n",
       "      <td>8.0</td>\n",
       "      <td>-0.057012</td>\n",
       "    </tr>\n",
       "    <tr>\n",
       "      <th>LIWC_happs</th>\n",
       "      <td>2.0</td>\n",
       "      <td>-0.041980</td>\n",
       "    </tr>\n",
       "    <tr>\n",
       "      <th>ANEW_arousal</th>\n",
       "      <td>7.0</td>\n",
       "      <td>-0.037768</td>\n",
       "    </tr>\n",
       "  </tbody>\n",
       "</table>\n",
       "</div>"
      ],
      "text/plain": [
       "                col_idx  Class1-Class2\n",
       "LabMT_happs         4.0      -0.192245\n",
       "ANEW_happs          6.0      -0.155071\n",
       "has_url            75.0      -0.111816\n",
       "ANEW_dominance      8.0      -0.057012\n",
       "LIWC_happs          2.0      -0.041980\n",
       "ANEW_arousal        7.0      -0.037768"
      ]
     },
     "execution_count": 441,
     "metadata": {},
     "output_type": "execute_result"
    }
   ],
   "source": [
    "#means[0:5]\n",
    "#0: total_words\n",
    "#1: LIWC_num_words\n",
    "#2: LIWC_happs\n",
    "#3: LabMT_num_words\n",
    "#4: LabMT_happs\n",
    "\n",
    "hmm_diff = pd.DataFrame(np.array([xrange(Xord[predictors].columns.shape[0]), \n",
    "                                  np.zeros(Xord[predictors].shape[1])]    ).T, \n",
    "                        index = Xord[predictors].columns, \n",
    "                        columns = ['col_idx','Class1-Class2'])\n",
    "hmm_diff.col_idx = hmm_diff.col_idx.astype(int)\n",
    "hmm_diff = hmm_diff.apply(lambda x: np.array([int(x[0]), hmm.means_[1,x[0]] - hmm.means_[0,x[0]]]), axis=1)\n",
    "hmm_diff = pd.DataFrame(hmm_diff)\n",
    "\n",
    "print 'Top 6 cases where Class 1 < Class 2'\n",
    "print\n",
    "hmm_diff.sort_values('Class1-Class2', ascending=True).iloc[0:6]"
   ]
  },
  {
   "cell_type": "code",
   "execution_count": 395,
   "metadata": {
    "collapsed": false
   },
   "outputs": [
    {
     "name": "stdout",
     "output_type": "stream",
     "text": [
      "Depressed HMM LabMT_happs mean: 6.138 (sd=0.0)\n",
      "Control HMM LabMT_happs mean: 6.138 (sd=0.0)\n",
      "\n",
      "t = nan, p = nan\n"
     ]
    },
    {
     "name": "stderr",
     "output_type": "stream",
     "text": [
      "/Users/andrew/anaconda/lib/python2.7/site-packages/numpy/core/_methods.py:82: RuntimeWarning: Degrees of freedom <= 0 for slice\n",
      "  warnings.warn(\"Degrees of freedom <= 0 for slice\", RuntimeWarning)\n"
     ]
    }
   ],
   "source": [
    "# check if Kalman means are different between target/control\n",
    "\n",
    "a = hmm.means_[0,4] \n",
    "b = hmm.means_[0,4] \n",
    "\n",
    "test = ttest(a, b)\n",
    "\n",
    "\n",
    "print 'Depressed HMM LabMT_happs mean: {} (sd={})'.format(round(a.mean(), 3), round(a.std(), 3))\n",
    "print 'Control HMM LabMT_happs mean: {} (sd={})'.format(round(b.mean(), 3), round(b.std(), 3))\n",
    "print\n",
    "print 't = {}, p = {}'.format(test.statistic,test.pvalue)\n"
   ]
  },
  {
   "cell_type": "code",
   "execution_count": 257,
   "metadata": {
    "collapsed": true
   },
   "outputs": [],
   "source": [
    "# This will change per run!  HMM is agnostic to class number assignment...\n",
    "\n",
    "target_class = 1 \n",
    "\n",
    "# check the mean happiness difference between classes to figure out which is which"
   ]
  },
  {
   "cell_type": "code",
   "execution_count": 348,
   "metadata": {
    "collapsed": false
   },
   "outputs": [],
   "source": [
    "key_var = 'proba1'\n",
    "hmm_roll = 90"
   ]
  },
  {
   "cell_type": "code",
   "execution_count": 349,
   "metadata": {
    "collapsed": false
   },
   "outputs": [
    {
     "data": {
      "text/plain": [
       "count    2.290600e+04\n",
       "mean     3.322183e-01\n",
       "std      4.693802e-01\n",
       "min      8.030603e-67\n",
       "25%      2.000224e-43\n",
       "50%      1.727149e-27\n",
       "75%      1.000000e+00\n",
       "max      1.000000e+00\n",
       "Name: proba1, dtype: float64"
      ]
     },
     "execution_count": 349,
     "metadata": {},
     "output_type": "execute_result"
    }
   ],
   "source": [
    "\n",
    "hmm_dff = Xord.reset_index(drop=True)\n",
    "ct = 0\n",
    "color_ct = 0\n",
    "uct = 0\n",
    "last_uid = ''\n",
    "colors = ['blue','purple','green','orange','pink','maroon','cyan']\n",
    "\n",
    "hmm_master_t = pd.DataFrame()\n",
    "\n",
    "for idx in dff.ix[(hmm_dff.target==1) & hmm_dff[key_var].notnull(),:].index:\n",
    "\n",
    "    \n",
    "    uid = hmm_dff.ix[idx,'user_id']\n",
    "    if uid != last_uid:\n",
    "        ct += 1\n",
    "        last_uid = uid\n",
    "        diag = pd.to_datetime(hmm_dff.ix[idx,'diag_date'])\n",
    "        hmm_oneuser = hmm_dff.ix[hmm_dff.user_id==uid, :].copy()\n",
    "\n",
    "        ts = hmm_oneuser.ix[:,[key_var,'from_diag']].copy()\n",
    "        ts['from_point'] = ts.from_diag\n",
    "        ts.index = pd.to_datetime(hmm_oneuser.created_date)\n",
    "\n",
    "        mask = (ts.index > diag-pd.DateOffset(365)) & (ts.index < diag+pd.DateOffset(365))\n",
    "        #ts2 = ts.ix[mask,'kf_mean'].copy()\n",
    "        ts['rmean'] = ts[key_var].rolling(hmm_roll).mean()\n",
    "        ts2 = ts.loc[mask]\n",
    "        hmm_master_t = pd.concat([hmm_master_t,ts2])\n",
    "        #print ts2.head(20)\n",
    "        #ax = ts.plot(style='-')\n",
    "        #plt.plot(ts2.from_diag, ts2.proba1, colors[color_ct], alpha=0.3)\n",
    "        #plt.axvline(x=0, color='red')\n",
    "        #color_ct = ct % 4\n",
    "        #plt.xlim([diag-pd.DateOffset(365), diag+pd.DateOffset(365)])\n",
    "hmm_master_t[key_var].describe()"
   ]
  },
  {
   "cell_type": "code",
   "execution_count": 374,
   "metadata": {
    "collapsed": false
   },
   "outputs": [],
   "source": [
    "ct = 0\n",
    "color_ct = 0\n",
    "uct = 0\n",
    "last_uid = ''\n",
    "colors = ['blue','purple','green','orange','pink','maroon','cyan']\n",
    "\n",
    "hmm_master_c = pd.DataFrame()\n",
    "\n",
    "for idx in hmm_dff.ix[(hmm_dff.target==0) & hmm_dff[key_var].notnull(),:].index:\n",
    "\n",
    "    uid = hmm_dff.ix[idx,'user_id']\n",
    "    if uid != last_uid:\n",
    "        ct += 1\n",
    "        last_uid = uid\n",
    "        current = pd.to_datetime('2016-04-01')\n",
    "\n",
    "        hmm_oneuser = hmm_dff.ix[hmm_dff.user_id==uid, :].copy()\n",
    "\n",
    "        ts = hmm_oneuser.ix[:,[key_var,'created_date','LabMT_happs']].copy()\n",
    "        ts.index = pd.to_datetime(hmm_oneuser.created_date)\n",
    "        ts['from_point'] = (ts.index-current).days\n",
    "        mask = (ts.from_point > -365*2)\n",
    "\n",
    "        ts['rmean'] = ts[key_var].rolling(hmm_roll).mean()\n",
    "        ts2 = ts.loc[mask].copy()\n",
    "        ts2.from_point = ts2.from_point + 365\n",
    "        hmm_master_c = pd.concat([hmm_master_c, ts2])\n",
    "        #print ts2.head(20)\n",
    "        #ax = ts.plot(style='-')\n",
    "        #plt.plot(ts2.from_current, ts2.rmean, colors[color_ct], alpha=0.3)\n",
    "        #plt.axvline(x=0, color='red')\n",
    "        #plt.ylim([-20,120])\n",
    "        #color_ct = ct % 4\n",
    "        #plt.xlim([diag-pd.DateOffset(365), diag+pd.DateOffset(365)])\n"
   ]
  },
  {
   "cell_type": "code",
   "execution_count": 393,
   "metadata": {
    "collapsed": false
   },
   "outputs": [
    {
     "data": {
      "text/plain": [
       "<matplotlib.legend.Legend at 0x184d00790>"
      ]
     },
     "execution_count": 393,
     "metadata": {},
     "output_type": "execute_result"
    },
    {
     "data": {
      "image/png": "[encoded data removed]",
      "text/plain": [
       "<matplotlib.figure.Figure at 0x17d447f10>"
      ]
     },
     "metadata": {},
     "output_type": "display_data"
    }
   ],
   "source": [
    "hmm_master_t['target'] = 'depressed'\n",
    "hmm_master_c['target'] = 'control'\n",
    "hmm_tsdf = pd.concat([hmm_master_t, hmm_master_c])\n",
    "\n",
    "hmm_tsgb = hmm_tsdf.groupby(['target','from_point']).agg({'rmean':['mean','var'],\n",
    "                                                          'LabMT_happs':'mean'})\n",
    "\n",
    "new_colname = ['%s%s' % (a, '|%s' % b if b else '') for a, b in hmm_tsgb.columns]\n",
    "hmm_tsgb.columns = new_colname\n",
    "\n",
    "hmm_tsgb2 = hmm_tsgb.reset_index()\n",
    "\n",
    "hmm_tsgb2['Probability depressed'] = hmm_tsgb2['rmean|mean'].rolling(hmm_roll).mean()\n",
    "\n",
    "hmm_t_rm = hmm_tsgb2.ix[hmm_tsgb2.target=='depressed','Probability depressed']\n",
    "hmm_t_from = hmm_tsgb2.ix[hmm_tsgb2.target=='depressed','from_point']\n",
    "\n",
    "hmm_c_rm = hmm_tsgb2.ix[hmm_tsgb2.target=='control','Probability depressed']\n",
    "hmm_c_from = hmm_tsgb2.ix[hmm_tsgb2.target=='control','from_point']\n",
    "\n",
    "plt.figure(figsize=(10,6))\n",
    "plt.plot(hmm_t_from,hmm_t_rm, alpha=.4, label='depressed')\n",
    "#plt.xlim([-180, 60])\n",
    "#plt.plot(c_from, c_rm, alpha=.4, label='control')\n",
    "plt.axvline(x=0, color='red', alpha=0.6)\n",
    "plt.legend()"
   ]
  },
  {
   "cell_type": "code",
   "execution_count": 394,
   "metadata": {
    "collapsed": false
   },
   "outputs": [
    {
     "data": {
      "image/png": "[encoded data removed]",
      "text/plain": [
       "<matplotlib.figure.Figure at 0x1849351d0>"
      ]
     },
     "metadata": {},
     "output_type": "display_data"
    }
   ],
   "source": [
    "g = sns.FacetGrid(hmm_tsgb2, col='target', size=6)\n",
    "g.map(plt.plot, 'from_point', 'Probability depressed', alpha=0.7)\n",
    "g.axes[0,1].axvline(x=0, color='r', alpha=0.4)\n",
    "g.set(xlim=(-180,90))\n",
    "sns.set(\"notebook\", font_scale=1.5, style='white')"
   ]
  },
  {
   "cell_type": "code",
   "execution_count": null,
   "metadata": {
    "collapsed": true
   },
   "outputs": [],
   "source": []
  }
 ],
 "metadata": {
  "kernelspec": {
   "display_name": "Python 2",
   "language": "python",
   "name": "python2"
  },
  "language_info": {
   "codemirror_mode": {
    "name": "ipython",
    "version": 2
   },
   "file_extension": ".py",
   "mimetype": "text/x-python",
   "name": "python",
   "nbconvert_exporter": "python",
   "pygments_lexer": "ipython2",
   "version": "2.7.12"
  }
 },
 "nbformat": 4,
 "nbformat_minor": 0
}
