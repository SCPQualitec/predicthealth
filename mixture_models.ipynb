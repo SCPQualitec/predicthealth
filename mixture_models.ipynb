{
 "cells": [
  {
   "cell_type": "code",
   "execution_count": 1,
   "metadata": {
    "collapsed": false
   },
   "outputs": [
    {
     "name": "stdout",
     "output_type": "stream",
     "text": [
      "loading data/LIWC/LIWC2007_English100131_words.dic\n",
      "loading LIWC with stopVal=0.5, for 906 words\n",
      "loading data/LIWC/LIWC2007_English100131_words.dic\n",
      "loading LIWC with stopVal=0.0, for 4483 words\n",
      "loading LabMT with stopVal=1.0, for 3731 words\n",
      "loading ANEW with stopVal=1.0, for 765 words\n"
     ]
    },
    {
     "name": "stderr",
     "output_type": "stream",
     "text": [
      "/Users/andrew/anaconda/lib/python2.7/site-packages/matplotlib/font_manager.py:273: UserWarning: Matplotlib is building the font cache using fc-list. This may take a moment.\n",
      "  warnings.warn('Matplotlib is building the font cache using fc-list. This may take a moment.')\n"
     ]
    }
   ],
   "source": [
    "import sqlite3\n",
    "import pandas as pd\n",
    "import numpy as np\n",
    "from datetime import datetime \n",
    "\n",
    "from matplotlib import pyplot as plt\n",
    "\n",
    "import seaborn as sns\n",
    "sns.set_style('white')\n",
    "%matplotlib inline\n",
    "\n",
    "import pickle\n",
    "\n",
    "from sklearn import mixture\n",
    "from pykalman import KalmanFilter\n",
    "\n",
    "from sklearn.cross_validation import train_test_split\n",
    "\n",
    "from sklearn.metrics import confusion_matrix\n",
    "from sklearn.metrics import f1_score, precision_score, recall_score\n",
    "\n",
    "from sklearn.preprocessing import scale\n",
    "from sklearn import cross_validation\n",
    "\n",
    "from bgfunc import *"
   ]
  },
  {
   "cell_type": "markdown",
   "metadata": {},
   "source": [
    "## Load SQLite database "
   ]
  },
  {
   "cell_type": "code",
   "execution_count": 2,
   "metadata": {
    "collapsed": true
   },
   "outputs": [],
   "source": [
    "dbfile = 'project_july26.db' # only project_july26.db has up-to-date word feats\n",
    "conn = sqlite3.connect(dbfile)"
   ]
  },
  {
   "cell_type": "markdown",
   "metadata": {},
   "source": [
    "## Analysis parameters \n",
    "\n",
    "Which condition are we studying?  Are there any cutoffs based on testing?"
   ]
  },
  {
   "cell_type": "code",
   "execution_count": 3,
   "metadata": {
    "collapsed": true
   },
   "outputs": [],
   "source": [
    "platform = 'tw' # ig = instagram, tw = twitter\n",
    "condition = 'depression' # depression, pregnancy, ptsd, cancer"
   ]
  },
  {
   "cell_type": "code",
   "execution_count": 4,
   "metadata": {
    "collapsed": true
   },
   "outputs": [],
   "source": [
    "specs = analysis_specifications(platform, condition)\n",
    "\n",
    "platform_long = specs['plong'][platform]\n",
    "gb_types = specs['gb_types'][platform]\n",
    "fields = specs['fields'][platform] \n",
    "test_name = specs['test_name'][condition]\n",
    "test_cutoff = specs['test_cutoff'][condition]\n",
    "photos_rated = specs['photos_rated'][condition]\n",
    "has_test = specs['has_test'][condition]\n",
    "\n",
    "clfs = ['rf'] # lr = logistic regression, rf = random forests, svc = support vector\n",
    "periods = ['before','after']\n",
    "turn_points = ['from_diag','from_susp']\n",
    "\n",
    "#################\n",
    "#\n",
    "# INSTAGRAM ONLY \n",
    "# \n",
    "#################\n",
    "additional_data = False # (instagram only) do we also get photo ratings? (This is proxy for limit_date_range in places)\n",
    "\n",
    "include_filter = False # (instagram only) include binary indicator of filter use? \n",
    "\n",
    "include_face_data = False # (instagram only) include has_face and face_ct? \n",
    "\n",
    "get_ratings_correlation = False # (instagram only) gets inter-rater correlation averages for each rated variable \n",
    "\n",
    "compare_ig_filters = False # (nstagram only) compares use of filters between target and control pops\n",
    "\n",
    "#################\n",
    "#\n",
    "# TWITTER ONLY \n",
    "# \n",
    "#################\n",
    "populate_wordfeats_db = False # (twitter only) generates word features from reagan code \n",
    "\n",
    "\n",
    "#################\n",
    "#\n",
    "# ALL PLATFORMS \n",
    "# \n",
    "#################\n",
    "impose_test_cutoff = True # do we want to limit target pop based on testing cutoff (eg. cesd > 21)?\n",
    "\n",
    "limit_date_range = False # do we want to restrict posts by date range? \n",
    "\n",
    "posting_cutoff = False # Drops usernames with fewer than (mean - 0.5std) total posts (for mcmc p-val improvement)\n",
    "\n",
    "report_sample_size = False # simple reporting feature for sample size\n",
    "\n",
    "report_sm_disq = False # reports #/% of subjects disqualified for refusing to share social media data\n",
    "\n",
    "path_head = '/'.join(['data-files',condition,platform])+'/'\n",
    "\n",
    "load_from = 'pickle' # None, file, pickle :: loads masters from pickled file, or just masters from csv\n",
    "\n",
    "write_to = None # None, file, pickle  :: writes initial data (prepare_raw_data()) to csv or pickle\n",
    "\n",
    "final_pickle = False # pickles entire data dict after all masters are created\n",
    "\n",
    "make_hourly_plot = False # make plot of aggregated hourly posting for target vs control?\n",
    "\n",
    "run_master = True \n",
    "run_subsets = True\n",
    "run_separate_pca = True\n",
    "run_kalman = False\n",
    "run_gmm = False\n",
    "\n",
    "action_params = {\n",
    "    'create_master': True, \n",
    "    'save_to_file' : True, \n",
    "    'density' : False, \n",
    "    'ml' : True, \n",
    "    'nhst' : True, \n",
    "    'corr' : False, \n",
    "    'print_corrmat' : False,\n",
    "    'tall_plot': True,\n",
    "    'acc_avg': 'binary',\n",
    "    'use_ttest':False,\n",
    "    'best_pca':1,\n",
    "    'show_comp_plot':True\n",
    "}\n",
    "\n",
    "params = define_params(condition, test_name, test_cutoff, impose_test_cutoff,\n",
    "                       platform, platform_long, fields, photos_rated, has_test, additional_data)"
   ]
  },
  {
   "cell_type": "markdown",
   "metadata": {},
   "source": [
    "## Load data\n",
    "\n",
    "Load a separate entry for each groupby "
   ]
  },
  {
   "cell_type": "code",
   "execution_count": 5,
   "metadata": {
    "collapsed": false
   },
   "outputs": [],
   "source": [
    "if not load_from: # construct data dict from raw data\n",
    "    data = make_data_dict(params, condition, test_name, conn)\n",
    "    prepare_raw_data(data, platform, params, conn, gb_types, condition, \n",
    "                     periods, turn_points, posting_cutoff,\n",
    "                     additional_data=additional_data, include_filter=include_filter, limit_date_range=limit_date_range)\n",
    "else: # load data dict from saved file\n",
    "    #data = data_loader(load_from, condition, platform, path_head)\n",
    "    data = pickle.load(open(\"{path}{cond}_{pl}_data.p\".format(path=path_head,\n",
    "                                                              cond=condition,\n",
    "                                                              pl=platform), \"rb\" ) )"
   ]
  },
  {
   "cell_type": "markdown",
   "metadata": {},
   "source": [
    "## Construct master dataset & run analyses\n",
    "\n",
    "Possible actions:\n",
    "- generate master data\n",
    "- save to disk\n",
    "- plot target vs control densities for each variable\n",
    "- correlation plot\n",
    "- ML modeling\n",
    "- NHST"
   ]
  },
  {
   "cell_type": "code",
   "execution_count": 6,
   "metadata": {
    "collapsed": false
   },
   "outputs": [
    {
     "name": "stdout",
     "output_type": "stream",
     "text": [
      "\n",
      "Merge to master: MAIN created_date\n",
      "master created_date shape: (102215, 88)\n",
      "\n",
      "\n",
      "Merge to master: MAIN weekly\n",
      "master weekly shape: (29328, 86)\n",
      "\n",
      "\n",
      "Merge to master: MAIN user_id\n",
      "master user_id shape: (394, 78)\n",
      "\n"
     ]
    }
   ],
   "source": [
    "if run_master:\n",
    "    master = data['master']\n",
    "    target = data['target']['gb']\n",
    "    control = data['control']['gb'] \n",
    "    report = 'MAIN'\n",
    "    \n",
    "    if action_params['create_master']:\n",
    "        master['model'] = {}\n",
    "\n",
    "    for gb_type in gb_types:\n",
    "\n",
    "        master_actions(master, target, control, condition, platform, \n",
    "                       params, gb_type, report, action_params, clfs, additional_data, posting_cutoff)"
   ]
  },
  {
   "cell_type": "markdown",
   "metadata": {},
   "source": [
    "## Set up training data"
   ]
  },
  {
   "cell_type": "code",
   "execution_count": 6,
   "metadata": {
    "collapsed": true
   },
   "outputs": [],
   "source": [
    "target = 'target'\n",
    "\n",
    "if platform == 'ig':\n",
    "    user = 'username'\n",
    "elif platform == 'tw':\n",
    "    user = 'user_id'\n",
    "    \n",
    "means = 'no_addtl_means'"
   ]
  },
  {
   "cell_type": "code",
   "execution_count": 7,
   "metadata": {
    "collapsed": false
   },
   "outputs": [],
   "source": [
    "gb_type = 'created_date'\n",
    "mdf = data['master'][gb_type].copy()\n",
    "\n",
    "predictors = params['vars'][platform][gb_type][means]\n",
    "\n",
    "X = mdf[predictors].copy()"
   ]
  },
  {
   "cell_type": "markdown",
   "metadata": {
    "collapsed": true
   },
   "source": [
    "## HMM\n",
    "\n",
    "Using hmmlearn module  \n",
    "\n",
    "Specifies a two-state Hidden Markov Model, generates probabilities of each observation belonging to class 0/1.  \n",
    "  \n",
    "We look at the mean differences between variables and note they are similar to the mean differences between depressed and target classes...seems reasonable to infer that HMM is picking up on mood of some kind as a distinguisher.  \n",
    "\n",
    "We show that depressed observations had a higher probability of being depressed, much before diagnosis."
   ]
  },
  {
   "cell_type": "code",
   "execution_count": 8,
   "metadata": {
    "collapsed": false
   },
   "outputs": [
    {
     "data": {
      "image/png": "[encoded data removed]",
      "text/plain": [
       "<matplotlib.figure.Figure at 0x11d22ac10>"
      ]
     },
     "metadata": {},
     "output_type": "display_data"
    }
   ],
   "source": [
    "hmm, hmmdf = fit_hmm(mdf, predictors)"
   ]
  },
  {
   "cell_type": "code",
   "execution_count": 9,
   "metadata": {
    "collapsed": false
   },
   "outputs": [
    {
     "name": "stdout",
     "output_type": "stream",
     "text": [
      "Top 5 differences between State 1 and State 0\n",
      "\n"
     ]
    },
    {
     "data": {
      "text/html": [
       "<div>\n",
       "<table border=\"1\" class=\"dataframe\">\n",
       "  <thead>\n",
       "    <tr style=\"text-align: right;\">\n",
       "      <th></th>\n",
       "      <th>col_idx</th>\n",
       "      <th>State1-State0</th>\n",
       "    </tr>\n",
       "  </thead>\n",
       "  <tbody>\n",
       "    <tr>\n",
       "      <th>has_url</th>\n",
       "      <td>6.0</td>\n",
       "      <td>0.106689</td>\n",
       "    </tr>\n",
       "    <tr>\n",
       "      <th>is_rt</th>\n",
       "      <td>7.0</td>\n",
       "      <td>-0.030587</td>\n",
       "    </tr>\n",
       "    <tr>\n",
       "      <th>LIWC_happs</th>\n",
       "      <td>9.0</td>\n",
       "      <td>-0.056767</td>\n",
       "    </tr>\n",
       "    <tr>\n",
       "      <th>is_reply</th>\n",
       "      <td>8.0</td>\n",
       "      <td>-0.065886</td>\n",
       "    </tr>\n",
       "    <tr>\n",
       "      <th>LIWC_assent</th>\n",
       "      <td>39.0</td>\n",
       "      <td>-0.213384</td>\n",
       "    </tr>\n",
       "  </tbody>\n",
       "</table>\n",
       "</div>"
      ],
      "text/plain": [
       "             col_idx  State1-State0\n",
       "has_url          6.0       0.106689\n",
       "is_rt            7.0      -0.030587\n",
       "LIWC_happs       9.0      -0.056767\n",
       "is_reply         8.0      -0.065886\n",
       "LIWC_assent     39.0      -0.213384"
      ]
     },
     "execution_count": 9,
     "metadata": {},
     "output_type": "execute_result"
    }
   ],
   "source": [
    "show_class_diffs(hmm, hmmdf, predictors, to_show=5, show_neg=False)"
   ]
  },
  {
   "cell_type": "markdown",
   "metadata": {},
   "source": [
    "### Compare HMM against logistic regression to determine which state == target class\n",
    "For each predictor, subtract State_0_mean - State_1_mean.  This returns either a + or - value.  \n",
    "If that sign is in agreement with the log odds sign for that predictor's coefficient from logreg, State0 gets a vote.\n",
    "If not, State1 gets a vote.   \n",
    "Whichever State has the most votes (ie. is most in line with what logreg would say), we assume that is the target class."
   ]
  },
  {
   "cell_type": "code",
   "execution_count": 12,
   "metadata": {
    "collapsed": false
   },
   "outputs": [
    {
     "name": "stdout",
     "output_type": "stream",
     "text": [
      "UNIT OF MEASUREMENT: created_date\n",
      "\n",
      "Optimization terminated successfully.\n",
      "         Current function value: 0.668815\n",
      "         Iterations 6\n",
      "Comparison for variable: HAS_URL\n",
      "State 0 HMM has_url mean: 0.232 (sd=0.313) [HMM param. mean: 5.977]\n",
      "State 1 HMM has_url mean: 0.339 (sd=0.441) [HMM param. mean: 5.667]\n",
      "\n",
      "t = -38.8030897279, p = 0.0\n",
      "\n",
      "According to logistic regression, this variable should be LARGER for depressed class.\n",
      "\n",
      "Comparison for variable: IS_RT\n",
      "State 0 HMM is_rt mean: 0.199 (sd=0.265) [HMM param. mean: 6.431]\n",
      "State 1 HMM is_rt mean: 0.169 (sd=0.338) [HMM param. mean: 3.663]\n",
      "\n",
      "t = 14.1066704165, p = 3.80971058285e-45\n",
      "\n",
      "According to logistic regression, this variable should be LARGER for depressed class.\n",
      "\n",
      "Comparison for variable: LIWC_I\n",
      "State 0 HMM LIWC_i mean: 0.538 (sd=0.88) [HMM param. mean: 5.46]\n",
      "State 1 HMM LIWC_i mean: 0.083 (sd=0.307) [HMM param. mean: 3.072]\n",
      "\n",
      "t = 121.94495276, p = 0.0\n",
      "\n",
      "According to logistic regression, this variable should be SMALLER for depressed class.\n",
      "\n",
      "Comparison for variable: LIWC_ASSENT\n",
      "State 0 HMM LIWC_assent mean: 0.23 (sd=0.483) [HMM param. mean: 5.565]\n",
      "State 1 HMM LIWC_assent mean: 0.015 (sd=0.123) [HMM param. mean: 3.132]\n",
      "\n",
      "t = 110.555842462, p = 0.0\n",
      "\n",
      "According to logistic regression, this variable should be SMALLER for depressed class.\n",
      "\n",
      "Comparison for variable: LIWC_HAPPS\n",
      "State 0 HMM LIWC_happs mean: 0.291 (sd=0.55) [HMM param. mean: 8.89]\n",
      "State 1 HMM LIWC_happs mean: 0.233 (sd=0.668) [HMM param. mean: 1.872]\n",
      "\n",
      "t = 13.5923219437, p = 4.8385417547e-42\n",
      "\n",
      "According to logistic regression, this variable should be SMALLER for depressed class.\n",
      "\n",
      "Comparison for variable: LIWC_SHEHE\n",
      "State 0 HMM LIWC_shehe mean: 0.336 (sd=0.597) [HMM param. mean: 15.035]\n",
      "State 1 HMM LIWC_shehe mean: 0.029 (sd=0.17) [HMM param. mean: 12.161]\n",
      "\n",
      "t = 126.016195402, p = 0.0\n",
      "\n",
      "According to logistic regression, this variable should be SMALLER for depressed class.\n",
      "\n",
      "Comparison for variable: IS_REPLY\n",
      "State 0 HMM is_reply mean: 0.525 (sd=0.345) [HMM param. mean: 0.232]\n",
      "State 1 HMM is_reply mean: 0.459 (sd=0.454) [HMM param. mean: 0.339]\n",
      "\n",
      "t = 22.8249489149, p = 5.03659673498e-115\n",
      "\n",
      "According to logistic regression, this variable should be SMALLER for depressed class.\n",
      "\n",
      "Comparison for variable: LIWC_RELIG\n",
      "State 0 HMM LIWC_relig mean: 0.792 (sd=1.116) [HMM param. mean: 0.199]\n",
      "State 1 HMM LIWC_relig mean: 0.114 (sd=0.341) [HMM param. mean: 0.169]\n",
      "\n",
      "t = 146.937498749, p = 0.0\n",
      "\n",
      "According to logistic regression, this variable should be LARGER for depressed class.\n",
      "\n",
      "Comparison for variable: LIWC_RELATIV\n",
      "State 0 HMM LIWC_relativ mean: 2.414 (sd=2.381) [HMM param. mean: 0.526]\n",
      "State 1 HMM LIWC_relativ mean: 0.483 (sd=0.758) [HMM param. mean: 0.46]\n",
      "\n",
      "t = 194.910218584, p = 0.0\n",
      "\n",
      "According to logistic regression, this variable should be SMALLER for depressed class.\n",
      "\n",
      "Comparison for variable: LIWC_NEGATE\n",
      "State 0 HMM LIWC_negate mean: 2.008 (sd=2.297) [HMM param. mean: 0.29]\n",
      "State 1 HMM LIWC_negate mean: 0.328 (sd=0.595) [HMM param. mean: 0.233]\n",
      "\n",
      "t = 181.617100216, p = 0.0\n",
      "\n",
      "According to logistic regression, this variable should be SMALLER for depressed class.\n",
      "\n",
      "Comparison for variable: LIWC_VERB\n",
      "State 0 HMM LIWC_verb mean: 6.088 (sd=4.952) [HMM param. mean: 0.542]\n",
      "State 1 HMM LIWC_verb mean: 1.11 (sd=1.211) [HMM param. mean: 0.084]\n",
      "\n",
      "t = 251.488913121, p = 0.0\n",
      "\n",
      "According to logistic regression, this variable should be LARGER for depressed class.\n",
      "\n",
      "Comparison for variable: LIWC_POSEMO\n",
      "State 0 HMM LIWC_posemo mean: 8.213 (sd=6.098) [HMM param. mean: 1.061]\n",
      "State 1 HMM LIWC_posemo mean: 1.923 (sd=1.603) [HMM param. mean: 0.267]\n",
      "\n",
      "t = 255.623475065, p = 0.0\n",
      "\n",
      "According to logistic regression, this variable should be LARGER for depressed class.\n",
      "\n",
      "Comparison for variable: LIWC_COGMECH\n",
      "State 0 HMM LIWC_cogmech mean: 2.751 (sd=2.663) [HMM param. mean: 0.628]\n",
      "State 1 HMM LIWC_cogmech mean: 0.52 (sd=0.761) [HMM param. mean: 0.068]\n",
      "\n",
      "t = 205.088684962, p = 0.0\n",
      "\n",
      "According to logistic regression, this variable should be LARGER for depressed class.\n",
      "\n",
      "Comparison for variable: LIWC_SWEAR\n",
      "State 0 HMM LIWC_swear mean: 8.805 (sd=7.2) [HMM param. mean: 0.338]\n",
      "State 1 HMM LIWC_swear mean: 1.652 (sd=1.598) [HMM param. mean: 0.03]\n",
      "\n",
      "t = 251.191747269, p = 0.0\n",
      "\n",
      "According to logistic regression, this variable should be LARGER for depressed class.\n",
      "\n",
      "Comparison for variable: ANEW_DOMINANCE\n",
      "State 0 HMM ANEW_dominance mean: 5.551 (sd=0.966) [HMM param. mean: 2.701]\n",
      "State 1 HMM ANEW_dominance mean: 3.124 (sd=2.905) [HMM param. mean: 0.56]\n",
      "\n",
      "t = 143.822392255, p = 0.0\n",
      "\n",
      "According to logistic regression, this variable should be LARGER for depressed class.\n",
      "\n",
      "Comparison for variable: LIWC_SEXUAL\n",
      "State 0 HMM LIWC_sexual mean: 1.531 (sd=1.629) [HMM param. mean: 1.802]\n",
      "State 1 HMM LIWC_sexual mean: 0.308 (sd=0.563) [HMM param. mean: 0.704]\n",
      "\n",
      "t = 177.431867183, p = 0.0\n",
      "\n",
      "According to logistic regression, this variable should be LARGER for depressed class.\n",
      "\n",
      "Comparison for variable: LIWC_ANGER\n",
      "State 0 HMM LIWC_anger mean: 2.03 (sd=1.665) [HMM param. mean: 11.05]\n",
      "State 1 HMM LIWC_anger mean: 0.513 (sd=0.672) [HMM param. mean: 1.939]\n",
      "\n",
      "t = 207.535239555, p = 0.0\n",
      "\n",
      "According to logistic regression, this variable should be LARGER for depressed class.\n",
      "\n",
      "Comparison for variable: LIWC_SOCIAL\n",
      "State 0 HMM LIWC_social mean: 0.691 (sd=1.007) [HMM param. mean: 6.134]\n",
      "State 1 HMM LIWC_social mean: 0.104 (sd=0.323) [HMM param. mean: 1.12]\n",
      "\n",
      "t = 139.874866939, p = 0.0\n",
      "\n",
      "According to logistic regression, this variable should be SMALLER for depressed class.\n",
      "\n",
      "Comparison for variable: LIWC_WORK\n",
      "State 0 HMM LIWC_work mean: 4.157 (sd=3.312) [HMM param. mean: 2.025]\n",
      "State 1 HMM LIWC_work mean: 0.928 (sd=1.072) [HMM param. mean: 0.331]\n",
      "\n",
      "t = 233.574847938, p = 0.0\n",
      "\n",
      "According to logistic regression, this variable should be SMALLER for depressed class.\n",
      "\n",
      "Comparison for variable: LIWC_ANX\n",
      "State 0 HMM LIWC_anx mean: 3.861 (sd=2.71) [HMM param. mean: 8.873]\n",
      "State 1 HMM LIWC_anx mean: 1.007 (sd=0.999) [HMM param. mean: 1.666]\n",
      "\n",
      "t = 245.315238091, p = 0.0\n",
      "\n",
      "According to logistic regression, this variable should be SMALLER for depressed class.\n",
      "\n",
      "Comparison for variable: LIWC_ARTICLE\n",
      "State 0 HMM LIWC_article mean: 10.964 (sd=9.37) [HMM param. mean: 0.697]\n",
      "State 1 HMM LIWC_article mean: 1.923 (sd=1.76) [HMM param. mean: 0.105]\n",
      "\n",
      "t = 247.576830542, p = 0.0\n",
      "\n",
      "According to logistic regression, this variable should be SMALLER for depressed class.\n",
      "\n",
      "Comparison for variable: LIWC_WE\n",
      "State 0 HMM LIWC_we mean: 1.055 (sd=0.985) [HMM param. mean: 8.272]\n",
      "State 1 HMM LIWC_we mean: 0.265 (sd=0.528) [HMM param. mean: 1.935]\n",
      "\n",
      "t = 166.210878574, p = 0.0\n",
      "\n",
      "According to logistic regression, this variable should be LARGER for depressed class.\n",
      "\n",
      "Comparison for variable: LIWC_YOU\n",
      "State 0 HMM LIWC_you mean: 0.623 (sd=1.04) [HMM param. mean: 3.886]\n",
      "State 1 HMM LIWC_you mean: 0.067 (sd=0.278) [HMM param. mean: 1.013]\n",
      "\n",
      "t = 132.038109832, p = 0.0\n",
      "\n",
      "According to logistic regression, this variable should be LARGER for depressed class.\n",
      "\n",
      "Comparison for variable: LIWC_BODY\n",
      "State 0 HMM LIWC_body mean: 2.558 (sd=2.829) [HMM param. mean: 2.045]\n",
      "State 1 HMM LIWC_body mean: 0.421 (sd=0.684) [HMM param. mean: 0.516]\n",
      "\n",
      "t = 189.228234017, p = 0.0\n",
      "\n",
      "According to logistic regression, this variable should be LARGER for depressed class.\n",
      "\n",
      "Comparison for variable: LIWC_SAD\n",
      "State 0 HMM LIWC_sad mean: 14.328 (sd=11.373) [HMM param. mean: 14.438]\n",
      "State 1 HMM LIWC_sad mean: 2.855 (sd=2.45) [HMM param. mean: 2.876]\n",
      "\n",
      "t = 255.859188913, p = 0.0\n",
      "\n",
      "According to logistic regression, this variable should be LARGER for depressed class.\n",
      "\n",
      "Comparison for variable: LIWC_INGEST\n",
      "State 0 HMM LIWC_ingest mean: 12.53 (sd=10.371) [HMM param. mean: 2.773]\n",
      "State 1 HMM LIWC_ingest mean: 2.554 (sd=2.269) [HMM param. mean: 0.524]\n",
      "\n",
      "t = 243.594354298, p = 0.0\n",
      "\n",
      "According to logistic regression, this variable should be SMALLER for depressed class.\n",
      "\n",
      "Comparison for variable: ANEW_HAPPS\n",
      "State 0 HMM ANEW_happs mean: 6.414 (sd=1.462) [HMM param. mean: 1.21]\n",
      "State 1 HMM ANEW_happs mean: 3.654 (sd=3.529) [HMM param. mean: 0.197]\n",
      "\n",
      "t = 132.963764179, p = 0.0\n",
      "\n",
      "According to logistic regression, this variable should be SMALLER for depressed class.\n",
      "\n",
      "Comparison for variable: LIWC_PERCEPT\n",
      "State 0 HMM LIWC_percept mean: 1.199 (sd=1.449) [HMM param. mean: 2.58]\n",
      "State 1 HMM LIWC_percept mean: 0.196 (sd=0.452) [HMM param. mean: 0.425]\n",
      "\n",
      "t = 167.082213094, p = 0.0\n",
      "\n",
      "According to logistic regression, this variable should be SMALLER for depressed class.\n",
      "\n",
      "Comparison for variable: LIWC_THEY\n",
      "State 0 HMM LIWC_they mean: 2.681 (sd=2.163) [HMM param. mean: 0.99]\n",
      "State 1 HMM LIWC_they mean: 0.556 (sd=0.776) [HMM param. mean: 0.15]\n",
      "\n",
      "t = 230.279120288, p = 0.0\n",
      "\n",
      "According to logistic regression, this variable should be LARGER for depressed class.\n",
      "\n",
      "Comparison for variable: LIWC_DEATH\n",
      "State 0 HMM LIWC_death mean: 0.84 (sd=1.271) [HMM param. mean: 1.543]\n",
      "State 1 HMM LIWC_death mean: 0.105 (sd=0.344) [HMM param. mean: 0.31]\n",
      "\n",
      "t = 142.792407206, p = 0.0\n",
      "\n",
      "According to logistic regression, this variable should be SMALLER for depressed class.\n",
      "\n",
      "Comparison for variable: LABMT_HAPPS\n",
      "State 0 HMM LabMT_happs mean: 5.978 (sd=0.465) [HMM param. mean: 12.628]\n",
      "State 1 HMM LabMT_happs mean: 5.664 (sd=1.791) [HMM param. mean: 2.572]\n",
      "\n",
      "t = 30.3739495367, p = 9.65207778833e-202\n",
      "\n",
      "According to logistic regression, this variable should be SMALLER for depressed class.\n",
      "\n",
      "Comparison for variable: LIWC_HOME\n",
      "State 0 HMM LIWC_home mean: 2.607 (sd=2.145) [HMM param. mean: 2.432]\n",
      "State 1 HMM LIWC_home mean: 0.694 (sd=0.837) [HMM param. mean: 0.487]\n",
      "\n",
      "t = 204.869309116, p = 0.0\n",
      "\n",
      "According to logistic regression, this variable should be SMALLER for depressed class.\n",
      "\n",
      "Comparison for variable: LIWC_LEISURE\n",
      "State 0 HMM LIWC_leisure mean: 0.89 (sd=1.255) [HMM param. mean: 4.188]\n",
      "State 1 HMM LIWC_leisure mean: 0.144 (sd=0.407) [HMM param. mean: 0.934]\n",
      "\n",
      "t = 142.35502491, p = 0.0\n",
      "\n",
      "According to logistic regression, this variable should be LARGER for depressed class.\n",
      "\n",
      "Comparison for variable: LIWC_HEALTH\n",
      "State 0 HMM LIWC_health mean: 0.982 (sd=1.238) [HMM param. mean: 3.32]\n",
      "State 1 HMM LIWC_health mean: 0.148 (sd=0.389) [HMM param. mean: 0.83]\n",
      "\n",
      "t = 162.272340138, p = 0.0\n",
      "\n",
      "According to logistic regression, this variable should be LARGER for depressed class.\n",
      "\n",
      "Comparison for variable: LIWC_ACHIEVE\n",
      "State 0 HMM LIWC_achieve mean: 3.297 (sd=2.494) [HMM param. mean: 0.898]\n",
      "State 1 HMM LIWC_achieve mean: 0.825 (sd=0.93) [HMM param. mean: 0.146]\n",
      "\n",
      "t = 230.267872963, p = 0.0\n",
      "\n",
      "According to logistic regression, this variable should be LARGER for depressed class.\n",
      "\n",
      "Comparison for variable: WORD_COUNT\n",
      "State 0 HMM word_count mean: 15.029 (sd=4.217) [HMM param. mean: 2.623]\n",
      "State 1 HMM word_count mean: 12.147 (sd=5.814) [HMM param. mean: 0.699]\n",
      "\n",
      "t = 78.7628713623, p = 0.0\n",
      "\n",
      "According to logistic regression, this variable should be SMALLER for depressed class.\n",
      "\n",
      "Comparison for variable: LIWC_MONEY\n",
      "State 0 HMM LIWC_money mean: 3.143 (sd=2.332) [HMM param. mean: 3.165]\n",
      "State 1 HMM LIWC_money mean: 0.75 (sd=0.906) [HMM param. mean: 0.755]\n",
      "\n",
      "t = 235.894694131, p = 0.0\n",
      "\n",
      "According to logistic regression, this variable should be LARGER for depressed class.\n",
      "\n",
      "Comparison for variable: LIWC_IPRON\n",
      "State 0 HMM LIWC_ipron mean: 1.794 (sd=0.755) [HMM param. mean: 0.799]\n",
      "State 1 HMM LIWC_ipron mean: 0.701 (sd=0.717) [HMM param. mean: 0.115]\n",
      "\n",
      "t = 220.520495955, p = 0.0\n",
      "\n",
      "According to logistic regression, this variable should be LARGER for depressed class.\n",
      "\n",
      "Comparison for variable: TWEET_COUNT\n",
      "State 0 HMM tweet_count mean: 8.816 (sd=11.986) [HMM param. mean: 0.845]\n",
      "State 1 HMM tweet_count mean: 1.862 (sd=1.412) [HMM param. mean: 0.107]\n",
      "\n",
      "t = 152.355344014, p = 0.0\n",
      "\n",
      "According to logistic regression, this variable should be SMALLER for depressed class.\n",
      "\n",
      "Comparison for variable: ANEW_AROUSAL\n",
      "State 0 HMM ANEW_arousal mean: 5.446 (sd=0.919) [HMM param. mean: 0.23]\n",
      "State 1 HMM ANEW_arousal mean: 3.064 (sd=2.844) [HMM param. mean: 0.016]\n",
      "\n",
      "t = 144.420914341, p = 0.0\n",
      "\n",
      "According to logistic regression, this variable should be SMALLER for depressed class.\n",
      "\n",
      "state=0 agree ct: 6, state=1 agree ct: 34\n",
      "\n",
      "target_state, as determined by HMM agreement with logistic regression: 1\n"
     ]
    }
   ],
   "source": [
    "# we use logreg coefficients (log odds) to compare against HMM predictor means, as a means of labeling states 0/1\n",
    "dm, log_odds = logreg_wrapper(data['master'], gb_type, means, params['vars'][platform], additional_data, doPrint=False)\n",
    "\n",
    "odds_cols = [x for x in log_odds if x[0] != 'intercept']\n",
    "\n",
    "target_state = compare_hmm_means(hmm, hmmdf, state=0, cols=odds_cols, reporting=True)\n",
    "print\n",
    "print 'target_state, as determined by HMM agreement with logistic regression:', target_state"
   ]
  },
  {
   "cell_type": "code",
   "execution_count": 16,
   "metadata": {
    "collapsed": false
   },
   "outputs": [
    {
     "name": "stdout",
     "output_type": "stream",
     "text": [
      "days in data: 821\n"
     ]
    }
   ],
   "source": [
    "# set up data for graphing\n",
    "\n",
    "hmm_master = {}\n",
    "key_var = 'proba{}'.format(target_state)\n",
    "\n",
    "for klass in [0,1]:\n",
    "    prepare_hmm_plot_data(hmmdf, hmm_master, key_var, klass=klass) #trust me: define key_var outside of this function!\n",
    "    \n",
    "group_varname = 'Population'\n",
    "hmm_roll = 90\n",
    "\n",
    "hmmT = hmm_master[1] # targets obs\n",
    "hmmC = hmm_master[0] # control obs\n",
    "\n",
    "hmmT[group_varname] = 'depressed'\n",
    "hmmC[group_varname] = 'control'\n",
    "\n",
    "hmm_tsdf = pd.concat([hmmT, hmmC])\n",
    "\n",
    "# how many days in tw/depression/created_date data?\n",
    "print 'days in data:', (hmm_tsdf.created_date.describe()['last'] - hmm_tsdf.created_date.describe()['first']).days"
   ]
  },
  {
   "cell_type": "code",
   "execution_count": 18,
   "metadata": {
    "collapsed": false
   },
   "outputs": [
    {
     "data": {
      "text/plain": [
       "<matplotlib.lines.Line2D at 0x122078a10>"
      ]
     },
     "execution_count": 18,
     "metadata": {},
     "output_type": "execute_result"
    },
    {
     "data": {
      "image/png": "[encoded data removed]",
      "text/plain": [
       "<matplotlib.figure.Figure at 0x122023750>"
      ]
     },
     "metadata": {},
     "output_type": "display_data"
    }
   ],
   "source": [
    "# graph time series difference between depressed and controls\n",
    "\n",
    "time_bin = 30 # 821 days in tw/depr data. Using monthly buckets (x_bins=30) gives 28 points on the graph, total.\n",
    "poly_order = 4 # polynomial fit of 4 captures the key curves in the data\n",
    "plot_size = 5 # plot height in inches\n",
    "plot_aspect = 1.5 # plot width = plot_size * plot_aspect\n",
    "\n",
    "g = sns.lmplot(x='from_point', y=key_var, hue=group_varname, data=hmm_tsdf, \n",
    "           x_bins=time_bin, order=poly_order, size=plot_size, aspect=plot_aspect)\n",
    "\n",
    "plt.xlim([-270, 270])\n",
    "plt.ylim([0,.5])\n",
    "plt_params = {'mathtext.default': 'regular' } # for * superscript on x-axis label         \n",
    "plt.rcParams.update(plt_params)\n",
    "plt.title('Hidden Markov Model: Depression emerges over time', fontsize=16)\n",
    "plt.ylabel('Probability of depression', fontsize=14)\n",
    "g.axes[0,0].set_xlabel('$Days\\ from\\ diagnosis^{*}$', fontsize=14)\n",
    "plt.axvline(x=0, color='orange', alpha=0.5)"
   ]
  },
  {
   "cell_type": "markdown",
   "metadata": {},
   "source": [
    "### These next blocks use rolling means to plot HMM state progression \n",
    "It looks like lmplot from Seaborn is cleaner though."
   ]
  },
  {
   "cell_type": "code",
   "execution_count": 109,
   "metadata": {
    "collapsed": false
   },
   "outputs": [
    {
     "data": {
      "text/plain": [
       "<matplotlib.legend.Legend at 0x139c01810>"
      ]
     },
     "execution_count": 109,
     "metadata": {},
     "output_type": "execute_result"
    },
    {
     "data": {
      "image/png": "[encoded data removed]",
      "text/plain": [
       "<matplotlib.figure.Figure at 0x13a11ac90>"
      ]
     },
     "metadata": {},
     "output_type": "display_data"
    }
   ],
   "source": [
    "hmm_tsgb = hmm_tsdf.groupby([group_varname,'from_point']).agg({'rmean':['mean','var'],\n",
    "                                                               'LabMT_happs':'mean'})\n",
    "\n",
    "new_colname = ['%s%s' % (a, '|%s' % b if b else '') for a, b in hmm_tsgb.columns]\n",
    "hmm_tsgb.columns = new_colname\n",
    "\n",
    "hmm_tsgb2 = hmm_tsgb.reset_index()\n",
    "\n",
    "ylabel = 'Probability in State {}'.format(target_state)\n",
    "hmm_tsgb2[ylabel] = hmm_tsgb2['rmean|mean'].rolling(hmm_roll).mean()\n",
    "\n",
    "hmm_t_rm = hmm_tsgb2.ix[hmm_tsgb2[group_varname]=='depressed',ylabel]\n",
    "hmm_t_from = hmm_tsgb2.ix[hmm_tsgb2[group_varname]=='depressed','from_point']\n",
    "\n",
    "hmm_c_rm = hmm_tsgb2.ix[hmm_tsgb2[group_varname]=='control',ylabel]\n",
    "hmm_c_from = hmm_tsgb2.ix[hmm_tsgb2[group_varname]=='control','from_point']\n",
    "\n",
    "plt.figure(figsize=(7,3))\n",
    "plt.plot(hmm_t_from,hmm_t_rm, alpha=.4, label='depressed')\n",
    "#plt.xlim([-180, 60])\n",
    "#plt.plot(c_from, c_rm, alpha=.4, label='control')\n",
    "plt.axvline(x=0, color='red', alpha=0.6)\n",
    "plt.legend()"
   ]
  },
  {
   "cell_type": "code",
   "execution_count": 111,
   "metadata": {
    "collapsed": false
   },
   "outputs": [
    {
     "data": {
      "image/png": "[encoded data removed]",
      "text/plain": [
       "<matplotlib.figure.Figure at 0x12e728a90>"
      ]
     },
     "metadata": {},
     "output_type": "display_data"
    }
   ],
   "source": [
    "g = sns.FacetGrid(hmm_tsgb2, col='Population', size=4)\n",
    "g.map(plt.plot, 'from_point', ylabel, alpha=0.7)\n",
    "g.axes[0,1].axvline(x=0, color='r', alpha=0.4)\n",
    "g.set(xlim=(-180,180))\n",
    "#g.set(ylim=(0,0.5))\n",
    "sns.set(\"notebook\", font_scale=1, style='white')\n",
    "\n",
    "# add sd bars!"
   ]
  },
  {
   "cell_type": "markdown",
   "metadata": {},
   "source": [
    "## Kalman Filter\n",
    "\n",
    "Note that default settings seem to specify a single-variate Gaussian for the latent variable.  You may want to adjust this."
   ]
  },
  {
   "cell_type": "code",
   "execution_count": 454,
   "metadata": {
    "collapsed": false
   },
   "outputs": [
    {
     "name": "stdout",
     "output_type": "stream",
     "text": [
      "Num target ids: (105,)\n",
      "Num control ids: (99,)\n"
     ]
    }
   ],
   "source": [
    "## this section for kalman filter and/or GMM only.  the user_id thing doesn't work for instagram...\n",
    "\n",
    "if platform == 'tw':\n",
    "    # this mask isn't exhaustive...but it is meant to cover cases where tweets just don't give much useful info\n",
    "    equals_zero_mask = (mdf.LabMT_happs != 0) & (mdf.ANEW_happs != 0)\n",
    "    mdf = mdf.loc[equals_zero_mask]\n",
    "\n",
    "tpop = mdf.ix[mdf.target==1,:]\n",
    "cpop = mdf.ix[mdf.target==0,:]\n",
    "\n",
    "print 'Num target ids:', tpop[user].unique().shape\n",
    "print 'Num control ids:', cpop[user].unique().shape\n",
    "\n",
    "# you should fix this up a bit...the reason you're sampling by user_id and not with a normal train_test_split is so you\n",
    "# can take the class assignments and plot them on a time series for the entire span of a given subject\n",
    "# still that's a bit messy and also not very principled with the numbers you picked.\n",
    "Tuid_train = pd.Series(tpop[user].unique()).sample(70)\n",
    "Cuid_train = pd.Series(cpop[user].unique()).sample(80)\n",
    "uid_train = pd.concat([Tuid_train,Cuid_train]).values\n",
    "\n",
    "df_train = mdf.ix[mdf[user].isin(uid_train),:]\n",
    "df_test = mdf.ix[~mdf[user].isin(uid_train),:]\n",
    "\n",
    "predictors = params['vars'][platform][gb_type][means]\n",
    "\n",
    "X = mdf[predictors].copy()\n",
    "X_train = df_train[predictors].copy()\n",
    "X_test = df_test[predictors].copy()\n",
    "y_train = df_train[target]\n",
    "y_test = df_test[target]\n",
    "\n",
    "df_to_use = X"
   ]
  },
  {
   "cell_type": "code",
   "execution_count": 14,
   "metadata": {
    "collapsed": false
   },
   "outputs": [],
   "source": [
    "if load_kalman:\n",
    "    kalman_df = pd.read_csv('{cond}_{pl}_{gb_type}_KF_MAIN.csv'.format(cond=condition, pl=platform, gb_type=gb_type))\n",
    "    kfmeans = kalman_df.kf_mean\n",
    "    kfcov = kalman_df.kf_cov\n",
    "else:\n",
    "    kf = KalmanFilter(initial_state_mean=0, n_dim_obs=X.shape[1])\n",
    "    \n",
    "    kf.em(X, n_iter=kalman_iter) # running on depression/tw/weekly this takes about 30 min with n_iter=100\n",
    "    \n",
    "    kfout = kf.smooth(df_to_use)\n",
    "    kfmeans = kfout[0]\n",
    "    kfcov = kfout[1]\n",
    "    \n",
    "    #save to file\n",
    "    (pd.DataFrame({'kf_mean':kfout[0].ravel(), 'kf_cov':kfout[1].ravel()}, index=X.index)\n",
    "       .to_csv('{cond}_{pl}_{gb_type}_KF_MAIN.csv'.format(cond=condition, pl=platform, gb_type=gb_type), index=False)\n",
    "     )\n",
    "    \n",
    "df_to_use['kf_mean'] = kfmeans\n",
    "df_to_use['kf_cov'] = kfcov.ravel()\n",
    "df_to_use['user_id'] = mdf.user_id[df_to_use.index]\n",
    "df_to_use['target'] = mdf.target[df_to_use.index]\n",
    "df_to_use['diag_date'] = mdf.diag_date[df_to_use.index]\n",
    "df_to_use['created_date'] = mdf.created_date[df_to_use.index]\n",
    "df_to_use['from_diag'] = mdf.from_diag[df_to_use.index]"
   ]
  },
  {
   "cell_type": "code",
   "execution_count": 291,
   "metadata": {
    "collapsed": false
   },
   "outputs": [
    {
     "name": "stdout",
     "output_type": "stream",
     "text": [
      "Correlation threshold: 0.03\n",
      "\n",
      "total_words :: -0.031 (p=0.0)\n",
      "LabMT_happs :: -0.032 (p=0.0)\n",
      "LIWC_health :: -0.041 (p=0.0)\n",
      "LIWC_achieve :: -0.031 (p=0.0)\n",
      "tweet_count :: -0.034 (p=0.0)\n"
     ]
    }
   ],
   "source": [
    "# are kf_means correlated with any other variables?\n",
    "\n",
    "corr_thresh = 0.03\n",
    "\n",
    "print 'Correlation threshold:', corr_thresh\n",
    "print\n",
    "for col in df_to_use.columns:\n",
    "    if col not in ['kf_mean','user_id','diag_date','created_date']:\n",
    "        try:\n",
    "            corr = pearsonr(df_to_use[col], df_to_use.kf_mean)\n",
    "            if abs(corr[0]) > corr_thresh:\n",
    "                print col, '::', round(corr[0], 3), '(p={})'.format(round(corr[1], 3))\n",
    "        except:\n",
    "            print\n",
    "            print 'FAIL:', col"
   ]
  },
  {
   "cell_type": "code",
   "execution_count": 289,
   "metadata": {
    "collapsed": false
   },
   "outputs": [
    {
     "name": "stdout",
     "output_type": "stream",
     "text": [
      "Depressed Kalman mean: 47.301 (sd=16.607)\n",
      "Control Kalman mean: 47.473 (sd=15.355)\n",
      "\n",
      "t = -1.41530298507, p = 0.156984161457\n",
      "\n",
      "(Rolling mean window: 90 days)\n"
     ]
    }
   ],
   "source": [
    "# check if Kalman means are different between target/control\n",
    "\n",
    "rolled_ttest = False # do you want the t-test to use rolling means of kf_mean?\n",
    "ttest_roll = 90\n",
    "\n",
    "a = df_to_use.ix[df_to_use.target==1,'kf_mean']\n",
    "b = df_to_use.ix[df_to_use.target==0,'kf_mean']\n",
    "\n",
    "if rolled_ttest:\n",
    "    a = a.rolling(ttest_roll).mean().dropna()\n",
    "    b = b.rolling(ttest_roll).mean().dropna()\n",
    "    \n",
    "test = ttest(a, b)\n",
    "\n",
    "\n",
    "print 'Depressed Kalman mean: {} (sd={})'.format(round(a.mean(), 3), round(a.std(), 3))\n",
    "print 'Control Kalman mean: {} (sd={})'.format(round(b.mean(), 3), round(b.std(), 3))\n",
    "print\n",
    "print 't = {}, p = {}'.format(test.statistic,test.pvalue)\n",
    "print \n",
    "print '(Rolling mean window: {} days)'.format(roll2)"
   ]
  },
  {
   "cell_type": "code",
   "execution_count": 307,
   "metadata": {
    "collapsed": true
   },
   "outputs": [],
   "source": [
    "# set rolling window for computing time series stats\n",
    "roll = 30\n",
    "\n",
    "# variable of interest\n",
    "target = 'kf_mean'"
   ]
  },
  {
   "cell_type": "code",
   "execution_count": 308,
   "metadata": {
    "collapsed": false
   },
   "outputs": [],
   "source": [
    "# target class\n",
    "\n",
    "dff = df_to_use.reset_index(drop=True)\n",
    "ct = 0\n",
    "color_ct = 0\n",
    "uct = 0\n",
    "last_uid = ''\n",
    "colors = ['blue','purple','green','orange','pink','maroon','cyan']\n",
    "\n",
    "master_t = pd.DataFrame()\n",
    "\n",
    "for idx in dff.ix[(dff.target==1) & dff[target].notnull(),:].index:\n",
    "    uid = dff.ix[idx,'user_id']\n",
    "    if uid != last_uid:\n",
    "        ct += 1\n",
    "        last_uid = uid\n",
    "        diag = pd.to_datetime(dff.ix[idx,'diag_date'])\n",
    "        oneuser = dff.ix[dff.user_id==uid, :].copy()\n",
    "\n",
    "        ts = oneuser.ix[:,[target,'from_diag']].copy()\n",
    "        ts['from_point'] = ts.from_diag\n",
    "        ts.index = pd.to_datetime(oneuser.created_date)\n",
    "\n",
    "\n",
    "        mask = (ts.index > diag-pd.DateOffset(365)) & (ts.index < diag+pd.DateOffset(365))\n",
    "        #ts2 = ts.ix[mask,'kf_mean'].copy()\n",
    "        ts['rmean'] = ts[target].rolling(roll).mean()\n",
    "        ts2 = ts.loc[mask]\n",
    "        master_t = pd.concat([master_t,ts2])\n",
    "        #print ts2.head(20)\n",
    "        #ax = ts.plot(style='-')\n",
    "        #plt.plot(ts2.from_diag, ts2.rmean, colors[color_ct], alpha=0.3)\n",
    "        #plt.axvline(x=0, color='red')\n",
    "        #color_ct = ct % 4\n",
    "        #plt.xlim([diag-pd.DateOffset(365), diag+pd.DateOffset(365)])"
   ]
  },
  {
   "cell_type": "code",
   "execution_count": 309,
   "metadata": {
    "collapsed": false
   },
   "outputs": [],
   "source": [
    "# control class\n",
    "\n",
    "ct = 0\n",
    "color_ct = 0\n",
    "uct = 0\n",
    "last_uid = ''\n",
    "colors = ['blue','purple','green','orange','pink','maroon','cyan']\n",
    "\n",
    "master_c = pd.DataFrame()\n",
    "\n",
    "for idx in dff.ix[(dff.target==0) & dff[target].notnull(),:].index:\n",
    "\n",
    "    uid = dff.ix[idx,'user_id']\n",
    "    if uid != last_uid:\n",
    "        ct += 1\n",
    "        last_uid = uid\n",
    "        current = pd.to_datetime('2016-04-01')\n",
    "\n",
    "        oneuser = dff.ix[dff.user_id==uid, :].copy()\n",
    "\n",
    "        ts = oneuser.ix[:,[target,'created_date','LabMT_happs']].copy()\n",
    "        ts.index = pd.to_datetime(oneuser.created_date)\n",
    "        ts['from_point'] = (ts.index-current).days\n",
    "        mask = (ts.from_point > -365*2)\n",
    "\n",
    "        ts['rmean'] = ts[target].rolling(roll).mean()\n",
    "        ts2 = ts.loc[mask]\n",
    "        master_c = pd.concat([master_c, ts2])\n",
    "        \n",
    "        #ax = ts.plot(style='-')\n",
    "        #plt.plot(ts2.from_current, ts2.rmean, colors[color_ct], alpha=0.3)\n",
    "        #plt.axvline(x=0, color='red')\n",
    "        #plt.ylim([-20,120])\n",
    "        #color_ct = ct % 4\n",
    "        #plt.xlim([diag-pd.DateOffset(365), diag+pd.DateOffset(365)])\n"
   ]
  },
  {
   "cell_type": "code",
   "execution_count": 310,
   "metadata": {
    "collapsed": false
   },
   "outputs": [
    {
     "data": {
      "text/plain": [
       "<matplotlib.legend.Legend at 0x18cc74590>"
      ]
     },
     "execution_count": 310,
     "metadata": {},
     "output_type": "execute_result"
    },
    {
     "data": {
      "image/png": "[encoded data removed]",
      "text/plain": [
       "<matplotlib.figure.Figure at 0x17cbc3110>"
      ]
     },
     "metadata": {},
     "output_type": "display_data"
    }
   ],
   "source": [
    "master_t['target'] = 'depressed'\n",
    "master_c['target'] = 'control'\n",
    "tsdf = pd.concat([master_t,master_c])\n",
    "\n",
    "tsgb = tsdf.groupby(['target','from_point']).agg({'rmean':['mean','var'],\n",
    "                                                  'LabMT_happs':'mean'})\n",
    "new_colname = ['%s%s' % (a, '|%s' % b if b else '') for a, b in tsgb.columns]\n",
    "tsgb.columns = new_colname\n",
    "\n",
    "tsgb2 = tsgb.reset_index()\n",
    "\n",
    "t_rm = tsgb2.ix[tsgb2.target=='depressed','rmean|mean'].rolling(roll2).mean()\n",
    "t_from = tsgb2.ix[tsgb2.target=='depressed','from_point']\n",
    "c_rm = tsgb2.ix[tsgb2.target=='control','rmean|mean'].rolling(roll2).mean()\n",
    "c_from = tsgb2.ix[tsgb2.target=='control','from_point']\n",
    "\n",
    "plt.figure(figsize=(10,6))\n",
    "plt.plot(t_from, t_rm, alpha=.4, label='depressed')\n",
    "plt.xlim([-180, 60])\n",
    "#plt.plot(c_from, c_rm, alpha=.4, label='control')\n",
    "plt.axvline(x=0, color='red', alpha=0.6)\n",
    "plt.legend()"
   ]
  },
  {
   "cell_type": "code",
   "execution_count": 312,
   "metadata": {
    "collapsed": false
   },
   "outputs": [
    {
     "data": {
      "image/png": "[encoded data removed]",
      "text/plain": [
       "<matplotlib.figure.Figure at 0x19a7ede50>"
      ]
     },
     "metadata": {},
     "output_type": "display_data"
    },
    {
     "data": {
      "text/plain": [
       "<matplotlib.legend.Legend at 0x1aba86cd0>"
      ]
     },
     "execution_count": 312,
     "metadata": {},
     "output_type": "execute_result"
    },
    {
     "data": {
      "image/png": "[encoded data removed]",
      "text/plain": [
       "<matplotlib.figure.Figure at 0x1a8738e90>"
      ]
     },
     "metadata": {},
     "output_type": "display_data"
    }
   ],
   "source": [
    "# tsgb = time series group-by\n",
    "\n",
    "tsgb2 = tsgb.reset_index()\n",
    "\n",
    "t_rm = tsgb2.ix[tsgb2.target=='depressed','rmean|mean'].rolling(roll2).mean()\n",
    "\n",
    "t_from = tsgb2.ix[tsgb2.target=='depressed','from_point']\n",
    "c_rm = tsgb2.ix[tsgb2.target=='control','rmean|mean'].rolling(roll2).mean()\n",
    "c_happs = tsgb2.ix[tsgb2.target=='control','LabMT_happs|mean'].rolling(roll2).mean()\n",
    "\n",
    "c_from = tsgb2.ix[tsgb2.target=='control','from_point']\n",
    "\n",
    "ylim = [45,50]\n",
    "xlim = [-200, 60]\n",
    "\n",
    "plt.figure(figsize=(10,3))\n",
    "plt.plot(t_from, t_rm, alpha=.4, label='depressed')\n",
    "plt.xlim(xlim)\n",
    "plt.ylim(ylim)\n",
    "plt.title('Kalman rolling mean, TARGET', fontsize=16)\n",
    "plt.axvline(x=0, color='red', alpha=0.6, label='diagnosis')\n",
    "\n",
    "plt.legend()\n",
    "plt.show()\n",
    "\n",
    "plt.figure(figsize=(10,3))\n",
    "plt.plot(c_from, c_rm, alpha=.4, label='control')\n",
    "plt.xlim(xlim)\n",
    "plt.ylim(ylim)\n",
    "plt.title('Kalman rolling mean, CONTROL', fontsize=16)\n",
    "plt.legend()"
   ]
  },
  {
   "cell_type": "code",
   "execution_count": 249,
   "metadata": {
    "collapsed": false
   },
   "outputs": [],
   "source": [
    "#g = sns.FacetGrid(tsgb2, col='target', size=6)\n",
    "#g.map(plt.plot, 'from_point', 'rmean|mean', alpha=0.7)"
   ]
  },
  {
   "cell_type": "markdown",
   "metadata": {},
   "source": [
    "## GMM model selection with BIC\n",
    "\n",
    "Note that if you leave in the zero-values for LabMT_happs, LabMT_word_count, etc, then the model selects 4 components instead of 2, since it thinks of the density bumps around zero for each class as their own compoonents.  So you took them out before running the model selection (well, you actually didn't take them out the first time and were surprised to see 4 components recommended...)\n"
   ]
  },
  {
   "cell_type": "code",
   "execution_count": 15,
   "metadata": {
    "collapsed": false
   },
   "outputs": [
    {
     "data": {
      "image/png": "[encoded data removed]",
      "text/plain": [
       "<matplotlib.figure.Figure at 0x158239a10>"
      ]
     },
     "metadata": {},
     "output_type": "display_data"
    },
    {
     "name": "stdout",
     "output_type": "stream",
     "text": [
      "Optimal number of mixture components: 6\n",
      "BIC for optimal (6) component mix: 14362547.6192\n"
     ]
    }
   ],
   "source": [
    "opt_comp = select_gmm(X).n_components\n",
    "print 'Optimal number of mixture components:', opt_comp\n",
    "\n",
    "gmmo = mixture.GMM( n_components=opt_comp )\n",
    "\n",
    "fit = gmmo.fit_predict(X)\n",
    "mdf['comp'] = fit\n",
    "\n",
    "print 'BIC for optimal ({}) component mix:'.format(opt_comp), gmmo.bic(X)"
   ]
  },
  {
   "cell_type": "code",
   "execution_count": 455,
   "metadata": {
    "collapsed": true
   },
   "outputs": [],
   "source": [
    "num_comps = 2\n",
    "# num_comps = opt_comp"
   ]
  },
  {
   "cell_type": "code",
   "execution_count": 475,
   "metadata": {
    "collapsed": false
   },
   "outputs": [
    {
     "name": "stdout",
     "output_type": "stream",
     "text": [
      "BIC for 2-component mix: 17278629.4757\n"
     ]
    }
   ],
   "source": [
    "# 2-class GMM fit\n",
    "gmm2 = mixture.GMM( n_components=num_comps )\n",
    "fit2 = gmm2.fit_predict(X)\n",
    "\n",
    "mdf['comp2'] = fit2\n",
    "gmm2df = mdf.copy()\n",
    "\n",
    "print 'BIC for 2-component mix:', gmm2.bic(X)"
   ]
  },
  {
   "cell_type": "code",
   "execution_count": 489,
   "metadata": {
    "collapsed": false
   },
   "outputs": [
    {
     "data": {
      "text/plain": [
       "<matplotlib.legend.Legend at 0x176b62350>"
      ]
     },
     "execution_count": 489,
     "metadata": {},
     "output_type": "execute_result"
    },
    {
     "data": {
      "image/png": "[encoded data removed]",
      "text/plain": [
       "<matplotlib.figure.Figure at 0x17be815d0>"
      ]
     },
     "metadata": {},
     "output_type": "display_data"
    }
   ],
   "source": [
    "# are GMM classes aligned with actual classes on LabMT happiness scores?\n",
    "\n",
    "f, (ax1, ax2) = plt.subplots(1, 2, sharey=True, figsize=(12,4))\n",
    "\n",
    "ax1.hist(gmm2df.LabMT_happs[gmm2df.comp2==1], color='navy', alpha=0.5, bins=20, label=condition)\n",
    "ax1.hist(gmm2df.LabMT_happs[gmm2df.comp2==0], color='gray', alpha=0.3, bins=20, label='control')\n",
    "ax1.set_title('LabMT_happs: GMM classes')\n",
    "ax1.legend(loc='upper left')\n",
    "\n",
    "ax2.hist(gmm2df.LabMT_happs[gmm2df.target==1], color='navy', alpha=0.5, bins=20, label=condition)\n",
    "ax2.hist(gmm2df.LabMT_happs[gmm2df.target==0], color='gray', alpha=0.3, bins=20, label='control')\n",
    "ax2.set_title('LabMT_happs: Actual classes')\n",
    "ax2.legend(loc='upper left')"
   ]
  },
  {
   "cell_type": "markdown",
   "metadata": {},
   "source": [
    "Below we take the 2-class GMM case and compute F1 scores, and compare that to a resampling distribution of F1 scores generated by unweighted random guesses."
   ]
  },
  {
   "cell_type": "code",
   "execution_count": 490,
   "metadata": {
    "collapsed": false
   },
   "outputs": [
    {
     "name": "stdout",
     "output_type": "stream",
     "text": [
      "\n",
      "Accuracy scores for 2-component GMM:\n",
      "\n",
      "recall: 0.349\n",
      "precision: 0.638\n",
      "specificity: 0.778\n",
      "npv: 0.517\n",
      "f1: 0.452\n"
     ]
    }
   ],
   "source": [
    "gmm2_acc = {}\n",
    "\n",
    "actual_neg = gmm2df.target==0\n",
    "preds = gmm2df.comp2\n",
    "pred_neg = preds==0\n",
    "\n",
    "tn = np.sum(actual_neg & pred_neg)\n",
    "pneg = np.sum(pred_neg)\n",
    "neg = np.sum(actual_neg)\n",
    "\n",
    "gmm2_acc['npv'] = round( tn / float(pneg), 3)\n",
    "gmm2_acc['specificity'] = round( tn / float(neg), 3 )\n",
    "gmm2_acc['f1'] = round(f1_score(gmm2df.target, gmm2df.comp2, average='binary'), 3)\n",
    "gmm2_acc['precision'] = round(precision_score(gmm2df.target, gmm2df.comp2, average='binary'), 3)\n",
    "gmm2_acc['recall'] = round(recall_score(gmm2df.target, gmm2df.comp2, average='binary'), 3)\n",
    "\n",
    "print\n",
    "print 'Accuracy scores for 2-component GMM:'\n",
    "print\n",
    "for score in ['recall','precision','specificity','npv','f1']:\n",
    "    print '{}:'.format(score), gmm2_acc[score]\n",
    "    "
   ]
  },
  {
   "cell_type": "code",
   "execution_count": 491,
   "metadata": {
    "collapsed": false
   },
   "outputs": [
    {
     "data": {
      "text/plain": [
       "0.55166707438159235"
      ]
     },
     "execution_count": 491,
     "metadata": {},
     "output_type": "execute_result"
    }
   ],
   "source": [
    "np.sum(gmm2df.target==gmm2df.comp2)/float(gmm2df.shape[0])"
   ]
  },
  {
   "cell_type": "code",
   "execution_count": 462,
   "metadata": {
    "collapsed": true
   },
   "outputs": [],
   "source": [
    "# how many samples of random unweighted guesses do we want?\n",
    "gmm_perm_iter = 1000"
   ]
  },
  {
   "cell_type": "code",
   "execution_count": 493,
   "metadata": {
    "collapsed": false
   },
   "outputs": [
    {
     "name": "stdout",
     "output_type": "stream",
     "text": [
      "\n",
      "Accuracy scores for random guessing (over 1000 rounds):\n",
      "\n",
      "recall: 0.5 (SD=0.003)\n",
      "precision: 0.528 (SD=0.002)\n",
      "specificity: 0.5 (SD=0.003)\n",
      "npv: 0.472 (SD=0.002)\n",
      "f1: 0.514 (SD=0.002)\n"
     ]
    }
   ],
   "source": [
    "guess_acc = {'f1':[],'specificity':[],'npv':[],'precision':[],'recall':[]}\n",
    "\n",
    "for i in range(gmm_perm_iter):\n",
    "    unweighted_guess = np.random.randint(0,2,gmm2df.shape[0])\n",
    "    \n",
    "    actual_neg = gmm2df.target==0\n",
    "    preds = unweighted_guess\n",
    "    pred_neg = preds==0\n",
    "\n",
    "    tn = np.sum(actual_neg & pred_neg)\n",
    "    pneg = np.sum(pred_neg)\n",
    "    neg = np.sum(actual_neg)\n",
    "    guess_acc['f1'].append(f1_score(gmm2df.target, unweighted_guess, average='binary'))\n",
    "    guess_acc['npv'].append( round( tn / float(pneg), 3) )\n",
    "    guess_acc['specificity'].append( round( tn / float(neg), 3 ) )\n",
    "    guess_acc['precision'].append( round(precision_score(gmm2df.target, unweighted_guess, average='binary'), 3) )\n",
    "    guess_acc['recall'].append( round(recall_score(gmm2df.target, unweighted_guess, average='binary'), 3) )\n",
    "    \n",
    "print\n",
    "print 'Accuracy scores for random guessing (over {} rounds):'.format(gmm_perm_iter)\n",
    "print\n",
    "for score in ['recall','precision','specificity','npv','f1']:\n",
    "    print '{}:'.format(score), round(np.mean(guess_acc[score]),3), '(SD={})'.format(round(np.std(guess_acc[score]),3))\n",
    "    \n",
    "\n",
    "#plt.figure(figsize=(8,4))\n",
    "#_=plt.hist(guess_f1s, bins=100)\n",
    "#plt.title('F1 score: GMM vs 1000x Unweighted guess sampling histogram', fontsize=14)\n",
    "#plt.axvline(gmm2_acc['f1'], color='green', label='GMM F1', alpha=0.6)\n",
    "#plt.xlim([0.45, 0.6])\n",
    "#plt.xlabel('F1 score', fontsize=14)\n",
    "#plt.ylabel('Frequency')\n",
    "#plt.legend(loc='upper left', fontsize=12)"
   ]
  },
  {
   "cell_type": "code",
   "execution_count": null,
   "metadata": {
    "collapsed": true
   },
   "outputs": [],
   "source": []
  }
 ],
 "metadata": {
  "kernelspec": {
   "display_name": "Python 2",
   "language": "python",
   "name": "python2"
  },
  "language_info": {
   "codemirror_mode": {
    "name": "ipython",
    "version": 2
   },
   "file_extension": ".py",
   "mimetype": "text/x-python",
   "name": "python",
   "nbconvert_exporter": "python",
   "pygments_lexer": "ipython2",
   "version": "2.7.12"
  }
 },
 "nbformat": 4,
 "nbformat_minor": 0
}
